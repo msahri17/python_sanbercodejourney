{
 "cells": [
  {
   "cell_type": "markdown",
   "metadata": {
    "id": "EqmubOp2whk3"
   },
   "source": [
    "# Soal 1. Pemahaman k-means clustering\n",
    "\n",
    "Jelaskan bagaimana cara kerja k-means clustering!"
   ]
  },
  {
   "cell_type": "markdown",
   "metadata": {
    "id": "gf8y3llqw369"
   },
   "source": [
    "Jawab disini:\n",
    "\n"
   ]
  },
  {
   "cell_type": "markdown",
   "metadata": {
    "id": "oXGsjqHCk7DW"
   },
   "source": [
    "\n",
    "\n",
    "---\n",
    "\n",
    "---\n",
    "\n",
    "\n",
    "\n",
    "---\n",
    "\n",
    "\n",
    "\n",
    "\n",
    "\n",
    "\n",
    "\n",
    "\n",
    "\n",
    "\n",
    "\n",
    "\n",
    "\n",
    "---\n",
    "\n"
   ]
  },
  {
   "cell_type": "markdown",
   "metadata": {
    "id": "NoX-A3wElHoq"
   },
   "source": [
    "Download disini [pelanggan.csv](https://drive.google.com/uc?export=download&id=1jX_rLPfcCfzEEgy9xaoALmpqfU2s5TTB)"
   ]
  },
  {
   "cell_type": "code",
   "execution_count": 1,
   "metadata": {
    "colab": {
     "base_uri": "https://localhost:8080/",
     "height": 204
    },
    "executionInfo": {
     "elapsed": 776,
     "status": "ok",
     "timestamp": 1617786708008,
     "user": {
      "displayName": "Afrida hafizhatul Ulum",
      "photoUrl": "https://lh3.googleusercontent.com/a-/AOh14GhlS_9Q6i4q4ai8Ae6HYz-8Ub9PE3QIsxfVPf8tEQ=s64",
      "userId": "06287560445691811212"
     },
     "user_tz": -420
    },
    "id": "rqRBoUBsw7S0",
    "outputId": "4795491d-6d80-4b6d-dbc1-f6afb60bd02d"
   },
   "outputs": [
    {
     "data": {
      "text/html": [
       "<div>\n",
       "<style scoped>\n",
       "    .dataframe tbody tr th:only-of-type {\n",
       "        vertical-align: middle;\n",
       "    }\n",
       "\n",
       "    .dataframe tbody tr th {\n",
       "        vertical-align: top;\n",
       "    }\n",
       "\n",
       "    .dataframe thead th {\n",
       "        text-align: right;\n",
       "    }\n",
       "</style>\n",
       "<table border=\"1\" class=\"dataframe\">\n",
       "  <thead>\n",
       "    <tr style=\"text-align: right;\">\n",
       "      <th></th>\n",
       "      <th>ID_pelanggan</th>\n",
       "      <th>Jenis Kelamin</th>\n",
       "      <th>Umur</th>\n",
       "      <th>Pendapatan pertahun (juta)</th>\n",
       "      <th>Skor Belanja (1-100)</th>\n",
       "    </tr>\n",
       "  </thead>\n",
       "  <tbody>\n",
       "    <tr>\n",
       "      <th>0</th>\n",
       "      <td>1</td>\n",
       "      <td>Laki-laki</td>\n",
       "      <td>19.0</td>\n",
       "      <td>15</td>\n",
       "      <td>39.0</td>\n",
       "    </tr>\n",
       "    <tr>\n",
       "      <th>1</th>\n",
       "      <td>2</td>\n",
       "      <td>Laki-laki</td>\n",
       "      <td>21.0</td>\n",
       "      <td>15</td>\n",
       "      <td>81.0</td>\n",
       "    </tr>\n",
       "    <tr>\n",
       "      <th>2</th>\n",
       "      <td>3</td>\n",
       "      <td>Perempuan</td>\n",
       "      <td>20.0</td>\n",
       "      <td>16</td>\n",
       "      <td>6.0</td>\n",
       "    </tr>\n",
       "    <tr>\n",
       "      <th>3</th>\n",
       "      <td>4</td>\n",
       "      <td>Perempuan</td>\n",
       "      <td>23.0</td>\n",
       "      <td>16</td>\n",
       "      <td>77.0</td>\n",
       "    </tr>\n",
       "    <tr>\n",
       "      <th>4</th>\n",
       "      <td>5</td>\n",
       "      <td>Perempuan</td>\n",
       "      <td>31.0</td>\n",
       "      <td>17</td>\n",
       "      <td>40.0</td>\n",
       "    </tr>\n",
       "  </tbody>\n",
       "</table>\n",
       "</div>"
      ],
      "text/plain": [
       "   ID_pelanggan Jenis Kelamin  Umur  Pendapatan pertahun (juta)  \\\n",
       "0             1     Laki-laki  19.0                          15   \n",
       "1             2     Laki-laki  21.0                          15   \n",
       "2             3     Perempuan  20.0                          16   \n",
       "3             4     Perempuan  23.0                          16   \n",
       "4             5     Perempuan  31.0                          17   \n",
       "\n",
       "   Skor Belanja (1-100)  \n",
       "0                  39.0  \n",
       "1                  81.0  \n",
       "2                   6.0  \n",
       "3                  77.0  \n",
       "4                  40.0  "
      ]
     },
     "execution_count": 1,
     "metadata": {},
     "output_type": "execute_result"
    }
   ],
   "source": [
    "import pandas as pd\n",
    "import seaborn as sns\n",
    "import matplotlib.pyplot as plt\n",
    "import numpy as np\n",
    "import scipy.stats\n",
    "\n",
    "df = pd.read_csv('pelanggan_supermarket.csv')\n",
    "df.head()"
   ]
  },
  {
   "cell_type": "markdown",
   "metadata": {
    "id": "AByM6XoYMkTy"
   },
   "source": [
    "# Soal 2. Clustering data menggunakan k-means clustering\n",
    "\n",
    "Dalam soal ini, kalian diminta untuk melakukan clustering antara data Umur dan Skor Belanja(1-100). Namun, clustering tidak bisa dilakukan karena data memiliki outlier dan missing value. Maka, lakukanlah tahapan-tahapan berikut:\n",
    "\n",
    "*   Handling missing value dengan menggunakan method ='ffill'\n",
    "*   Handling outlier menggunakan metode Interquartile range\n",
    "*   Lakukan rescaling data menggunakan StandardScaler\n",
    "*   Lakukan clustering menggunakan kmeans clustering dengan k =2, dan visualisasikan.. \n",
    "*   Gunakan Elbow method untuk menemukan jumlah k kluster yang tepat\n",
    "*   Gunakan k=3 (rekomendasi methode Elbow) lalu visualisasikan\n",
    "*   Hitung silhoutte Coefficient dari ke dua hasil prediksi klustering tersebut\n",
    "\n",
    "\n",
    "\n",
    "\n",
    "\n",
    "\n",
    "\n",
    "\n"
   ]
  },
  {
   "cell_type": "code",
   "execution_count": 2,
   "metadata": {
    "id": "l2u2IRm4Ou_9"
   },
   "outputs": [
    {
     "name": "stdout",
     "output_type": "stream",
     "text": [
      "<class 'pandas.core.frame.DataFrame'>\n",
      "RangeIndex: 250 entries, 0 to 249\n",
      "Data columns (total 5 columns):\n",
      " #   Column                      Non-Null Count  Dtype  \n",
      "---  ------                      --------------  -----  \n",
      " 0   ID_pelanggan                250 non-null    int64  \n",
      " 1   Jenis Kelamin               250 non-null    object \n",
      " 2   Umur                        250 non-null    float64\n",
      " 3   Pendapatan pertahun (juta)  250 non-null    int64  \n",
      " 4   Skor Belanja (1-100)        250 non-null    float64\n",
      "dtypes: float64(2), int64(2), object(1)\n",
      "memory usage: 9.9+ KB\n"
     ]
    }
   ],
   "source": [
    "# Heandling missing value\n",
    "df['Umur'].fillna(method ='ffill', inplace=True)\n",
    "df['Skor Belanja (1-100)'].fillna(method ='ffill', inplace=True)\n",
    "df.info()"
   ]
  },
  {
   "cell_type": "code",
   "execution_count": 3,
   "metadata": {},
   "outputs": [],
   "source": [
    "# Fungsi untuk menentukan batas dan pencilan\n",
    "def batas(x):\n",
    "    Q1 =np.percentile(x,25)\n",
    "    Q3 = np.percentile(x,75)\n",
    "    IQR = Q3-Q1\n",
    "    batas_bawah=Q1-(IQR*1.5)\n",
    "    batas_atas=Q3+(IQR*1.5)\n",
    "    return batas_bawah,batas_atas\n",
    "def pencilan (x):\n",
    "    batas_bawah, batas_atas = pencilan(x)\n",
    "    return x[np.where((x>batas_atas)|(x<batas_bawah))]"
   ]
  },
  {
   "cell_type": "code",
   "execution_count": null,
   "metadata": {},
   "outputs": [],
   "source": [
    "print(pencilan (df['Skor Belanja (1-100)'].values))\n",
    "print(pencilan (df['Umur'].values))"
   ]
  },
  {
   "cell_type": "markdown",
   "metadata": {
    "id": "Fo1GIiVdFP4j"
   },
   "source": [
    "Expected output:\n",
    "\n",
    "n_cluster =2\n",
    "\n",
    "![](https://drive.google.com/uc?id=1RHedPeGR48w-cWl7WWkIsHTSB2DRgynO)\n",
    "\n",
    "\n",
    "Elbow graph\n",
    "\n",
    "![](https://drive.google.com/uc?id=1S3_uvQWzJCi8YwSBbpu2imKbUBZ3JdmV)\n",
    "\n",
    "n_cluster =3\n",
    "\n",
    "![](https://drive.google.com/uc?id=1EVMDQgPpC8vYpfxilyiJMRDNIr-JXULd)"
   ]
  },
  {
   "cell_type": "markdown",
   "metadata": {
    "id": "5xpMIoEcm8MM"
   },
   "source": [
    "\n",
    "\n",
    "---\n",
    "\n",
    "\n",
    "\n",
    "---\n",
    "\n",
    "\n",
    "\n",
    "---\n",
    "\n"
   ]
  },
  {
   "cell_type": "markdown",
   "metadata": {
    "id": "pt-NFlqTm-Og"
   },
   "source": [
    "# Soal 3. Analisa Data Hasil Clustering\n",
    "\n",
    "Dari hasil klustering diatas, buatlah sebuah analisa segmentasi pelanggan untuk kemajuan supermarket. "
   ]
  },
  {
   "cell_type": "markdown",
   "metadata": {
    "id": "zNPDstJynpva"
   },
   "source": [
    "Jawab disini:"
   ]
  }
 ],
 "metadata": {
  "colab": {
   "collapsed_sections": [],
   "name": "Tugas_Day_3(EDA).ipynb",
   "provenance": [],
   "toc_visible": true
  },
  "kernelspec": {
   "display_name": "Python 3 (ipykernel)",
   "language": "python",
   "name": "python3"
  },
  "language_info": {
   "codemirror_mode": {
    "name": "ipython",
    "version": 3
   },
   "file_extension": ".py",
   "mimetype": "text/x-python",
   "name": "python",
   "nbconvert_exporter": "python",
   "pygments_lexer": "ipython3",
   "version": "3.9.6"
  }
 },
 "nbformat": 4,
 "nbformat_minor": 1
}
