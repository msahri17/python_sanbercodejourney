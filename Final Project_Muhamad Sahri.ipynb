{
 "cells": [
  {
   "cell_type": "markdown",
   "id": "07a0fcdd",
   "metadata": {},
   "source": [
    "# Step 1: Reading and Understanding Data"
   ]
  },
  {
   "cell_type": "code",
   "execution_count": 2,
   "id": "3afe3ab0",
   "metadata": {},
   "outputs": [],
   "source": [
    "#Import library\n",
    "import warnings\n",
    "warnings.filterwarnings('ignore')\n",
    "\n",
    "import numpy as np\n",
    "import pandas as pd\n",
    "import matplotlib.pyplot as plt\n",
    "import seaborn as sns\n"
   ]
  },
  {
   "cell_type": "code",
   "execution_count": 3,
   "id": "673c5a70",
   "metadata": {},
   "outputs": [
    {
     "data": {
      "text/html": [
       "<div>\n",
       "<style scoped>\n",
       "    .dataframe tbody tr th:only-of-type {\n",
       "        vertical-align: middle;\n",
       "    }\n",
       "\n",
       "    .dataframe tbody tr th {\n",
       "        vertical-align: top;\n",
       "    }\n",
       "\n",
       "    .dataframe thead th {\n",
       "        text-align: right;\n",
       "    }\n",
       "</style>\n",
       "<table border=\"1\" class=\"dataframe\">\n",
       "  <thead>\n",
       "    <tr style=\"text-align: right;\">\n",
       "      <th></th>\n",
       "      <th>Negara</th>\n",
       "      <th>Kematian_anak</th>\n",
       "      <th>Ekspor</th>\n",
       "      <th>Kesehatan</th>\n",
       "      <th>Impor</th>\n",
       "      <th>Pendapatan</th>\n",
       "      <th>Inflasi</th>\n",
       "      <th>Harapan_hidup</th>\n",
       "      <th>Jumlah_fertiliti</th>\n",
       "      <th>GDPperkapita</th>\n",
       "    </tr>\n",
       "  </thead>\n",
       "  <tbody>\n",
       "    <tr>\n",
       "      <th>0</th>\n",
       "      <td>Afghanistan</td>\n",
       "      <td>90.2</td>\n",
       "      <td>10.0</td>\n",
       "      <td>7.58</td>\n",
       "      <td>44.9</td>\n",
       "      <td>1610</td>\n",
       "      <td>9.44</td>\n",
       "      <td>56.2</td>\n",
       "      <td>5.82</td>\n",
       "      <td>553</td>\n",
       "    </tr>\n",
       "    <tr>\n",
       "      <th>1</th>\n",
       "      <td>Albania</td>\n",
       "      <td>16.6</td>\n",
       "      <td>28.0</td>\n",
       "      <td>6.55</td>\n",
       "      <td>48.6</td>\n",
       "      <td>9930</td>\n",
       "      <td>4.49</td>\n",
       "      <td>76.3</td>\n",
       "      <td>1.65</td>\n",
       "      <td>4090</td>\n",
       "    </tr>\n",
       "    <tr>\n",
       "      <th>2</th>\n",
       "      <td>Algeria</td>\n",
       "      <td>27.3</td>\n",
       "      <td>38.4</td>\n",
       "      <td>4.17</td>\n",
       "      <td>31.4</td>\n",
       "      <td>12900</td>\n",
       "      <td>16.10</td>\n",
       "      <td>76.5</td>\n",
       "      <td>2.89</td>\n",
       "      <td>4460</td>\n",
       "    </tr>\n",
       "    <tr>\n",
       "      <th>3</th>\n",
       "      <td>Angola</td>\n",
       "      <td>119.0</td>\n",
       "      <td>62.3</td>\n",
       "      <td>2.85</td>\n",
       "      <td>42.9</td>\n",
       "      <td>5900</td>\n",
       "      <td>22.40</td>\n",
       "      <td>60.1</td>\n",
       "      <td>6.16</td>\n",
       "      <td>3530</td>\n",
       "    </tr>\n",
       "    <tr>\n",
       "      <th>4</th>\n",
       "      <td>Antigua and Barbuda</td>\n",
       "      <td>10.3</td>\n",
       "      <td>45.5</td>\n",
       "      <td>6.03</td>\n",
       "      <td>58.9</td>\n",
       "      <td>19100</td>\n",
       "      <td>1.44</td>\n",
       "      <td>76.8</td>\n",
       "      <td>2.13</td>\n",
       "      <td>12200</td>\n",
       "    </tr>\n",
       "    <tr>\n",
       "      <th>...</th>\n",
       "      <td>...</td>\n",
       "      <td>...</td>\n",
       "      <td>...</td>\n",
       "      <td>...</td>\n",
       "      <td>...</td>\n",
       "      <td>...</td>\n",
       "      <td>...</td>\n",
       "      <td>...</td>\n",
       "      <td>...</td>\n",
       "      <td>...</td>\n",
       "    </tr>\n",
       "    <tr>\n",
       "      <th>162</th>\n",
       "      <td>Vanuatu</td>\n",
       "      <td>29.2</td>\n",
       "      <td>46.6</td>\n",
       "      <td>5.25</td>\n",
       "      <td>52.7</td>\n",
       "      <td>2950</td>\n",
       "      <td>2.62</td>\n",
       "      <td>63.0</td>\n",
       "      <td>3.50</td>\n",
       "      <td>2970</td>\n",
       "    </tr>\n",
       "    <tr>\n",
       "      <th>163</th>\n",
       "      <td>Venezuela</td>\n",
       "      <td>17.1</td>\n",
       "      <td>28.5</td>\n",
       "      <td>4.91</td>\n",
       "      <td>17.6</td>\n",
       "      <td>16500</td>\n",
       "      <td>45.90</td>\n",
       "      <td>75.4</td>\n",
       "      <td>2.47</td>\n",
       "      <td>13500</td>\n",
       "    </tr>\n",
       "    <tr>\n",
       "      <th>164</th>\n",
       "      <td>Vietnam</td>\n",
       "      <td>23.3</td>\n",
       "      <td>72.0</td>\n",
       "      <td>6.84</td>\n",
       "      <td>80.2</td>\n",
       "      <td>4490</td>\n",
       "      <td>12.10</td>\n",
       "      <td>73.1</td>\n",
       "      <td>1.95</td>\n",
       "      <td>1310</td>\n",
       "    </tr>\n",
       "    <tr>\n",
       "      <th>165</th>\n",
       "      <td>Yemen</td>\n",
       "      <td>56.3</td>\n",
       "      <td>30.0</td>\n",
       "      <td>5.18</td>\n",
       "      <td>34.4</td>\n",
       "      <td>4480</td>\n",
       "      <td>23.60</td>\n",
       "      <td>67.5</td>\n",
       "      <td>4.67</td>\n",
       "      <td>1310</td>\n",
       "    </tr>\n",
       "    <tr>\n",
       "      <th>166</th>\n",
       "      <td>Zambia</td>\n",
       "      <td>83.1</td>\n",
       "      <td>37.0</td>\n",
       "      <td>5.89</td>\n",
       "      <td>30.9</td>\n",
       "      <td>3280</td>\n",
       "      <td>14.00</td>\n",
       "      <td>52.0</td>\n",
       "      <td>5.40</td>\n",
       "      <td>1460</td>\n",
       "    </tr>\n",
       "  </tbody>\n",
       "</table>\n",
       "<p>167 rows × 10 columns</p>\n",
       "</div>"
      ],
      "text/plain": [
       "                  Negara  Kematian_anak  Ekspor  Kesehatan  Impor  Pendapatan  \\\n",
       "0            Afghanistan           90.2    10.0       7.58   44.9        1610   \n",
       "1                Albania           16.6    28.0       6.55   48.6        9930   \n",
       "2                Algeria           27.3    38.4       4.17   31.4       12900   \n",
       "3                 Angola          119.0    62.3       2.85   42.9        5900   \n",
       "4    Antigua and Barbuda           10.3    45.5       6.03   58.9       19100   \n",
       "..                   ...            ...     ...        ...    ...         ...   \n",
       "162              Vanuatu           29.2    46.6       5.25   52.7        2950   \n",
       "163            Venezuela           17.1    28.5       4.91   17.6       16500   \n",
       "164              Vietnam           23.3    72.0       6.84   80.2        4490   \n",
       "165                Yemen           56.3    30.0       5.18   34.4        4480   \n",
       "166               Zambia           83.1    37.0       5.89   30.9        3280   \n",
       "\n",
       "     Inflasi  Harapan_hidup  Jumlah_fertiliti  GDPperkapita  \n",
       "0       9.44           56.2              5.82           553  \n",
       "1       4.49           76.3              1.65          4090  \n",
       "2      16.10           76.5              2.89          4460  \n",
       "3      22.40           60.1              6.16          3530  \n",
       "4       1.44           76.8              2.13         12200  \n",
       "..       ...            ...               ...           ...  \n",
       "162     2.62           63.0              3.50          2970  \n",
       "163    45.90           75.4              2.47         13500  \n",
       "164    12.10           73.1              1.95          1310  \n",
       "165    23.60           67.5              4.67          1310  \n",
       "166    14.00           52.0              5.40          1460  \n",
       "\n",
       "[167 rows x 10 columns]"
      ]
     },
     "execution_count": 3,
     "metadata": {},
     "output_type": "execute_result"
    }
   ],
   "source": [
    "# Read File\n",
    "df = pd.read_csv('Data_Negara_HELP.csv')\n",
    "df"
   ]
  },
  {
   "cell_type": "code",
   "execution_count": 4,
   "id": "113119d5",
   "metadata": {},
   "outputs": [
    {
     "data": {
      "text/html": [
       "<div>\n",
       "<style scoped>\n",
       "    .dataframe tbody tr th:only-of-type {\n",
       "        vertical-align: middle;\n",
       "    }\n",
       "\n",
       "    .dataframe tbody tr th {\n",
       "        vertical-align: top;\n",
       "    }\n",
       "\n",
       "    .dataframe thead th {\n",
       "        text-align: right;\n",
       "    }\n",
       "</style>\n",
       "<table border=\"1\" class=\"dataframe\">\n",
       "  <thead>\n",
       "    <tr style=\"text-align: right;\">\n",
       "      <th></th>\n",
       "      <th>Negara</th>\n",
       "      <th>Kematian_anak</th>\n",
       "      <th>Ekspor</th>\n",
       "      <th>Kesehatan</th>\n",
       "      <th>Impor</th>\n",
       "      <th>Pendapatan</th>\n",
       "      <th>Inflasi</th>\n",
       "      <th>Harapan_hidup</th>\n",
       "      <th>Jumlah_fertiliti</th>\n",
       "      <th>GDPperkapita</th>\n",
       "    </tr>\n",
       "  </thead>\n",
       "  <tbody>\n",
       "    <tr>\n",
       "      <th>0</th>\n",
       "      <td>Afghanistan</td>\n",
       "      <td>90.2</td>\n",
       "      <td>10.0</td>\n",
       "      <td>7.58</td>\n",
       "      <td>44.9</td>\n",
       "      <td>1610</td>\n",
       "      <td>9.44</td>\n",
       "      <td>56.2</td>\n",
       "      <td>5.82</td>\n",
       "      <td>553</td>\n",
       "    </tr>\n",
       "    <tr>\n",
       "      <th>1</th>\n",
       "      <td>Albania</td>\n",
       "      <td>16.6</td>\n",
       "      <td>28.0</td>\n",
       "      <td>6.55</td>\n",
       "      <td>48.6</td>\n",
       "      <td>9930</td>\n",
       "      <td>4.49</td>\n",
       "      <td>76.3</td>\n",
       "      <td>1.65</td>\n",
       "      <td>4090</td>\n",
       "    </tr>\n",
       "    <tr>\n",
       "      <th>2</th>\n",
       "      <td>Algeria</td>\n",
       "      <td>27.3</td>\n",
       "      <td>38.4</td>\n",
       "      <td>4.17</td>\n",
       "      <td>31.4</td>\n",
       "      <td>12900</td>\n",
       "      <td>16.10</td>\n",
       "      <td>76.5</td>\n",
       "      <td>2.89</td>\n",
       "      <td>4460</td>\n",
       "    </tr>\n",
       "    <tr>\n",
       "      <th>3</th>\n",
       "      <td>Angola</td>\n",
       "      <td>119.0</td>\n",
       "      <td>62.3</td>\n",
       "      <td>2.85</td>\n",
       "      <td>42.9</td>\n",
       "      <td>5900</td>\n",
       "      <td>22.40</td>\n",
       "      <td>60.1</td>\n",
       "      <td>6.16</td>\n",
       "      <td>3530</td>\n",
       "    </tr>\n",
       "    <tr>\n",
       "      <th>4</th>\n",
       "      <td>Antigua and Barbuda</td>\n",
       "      <td>10.3</td>\n",
       "      <td>45.5</td>\n",
       "      <td>6.03</td>\n",
       "      <td>58.9</td>\n",
       "      <td>19100</td>\n",
       "      <td>1.44</td>\n",
       "      <td>76.8</td>\n",
       "      <td>2.13</td>\n",
       "      <td>12200</td>\n",
       "    </tr>\n",
       "  </tbody>\n",
       "</table>\n",
       "</div>"
      ],
      "text/plain": [
       "                Negara  Kematian_anak  Ekspor  Kesehatan  Impor  Pendapatan  \\\n",
       "0          Afghanistan           90.2    10.0       7.58   44.9        1610   \n",
       "1              Albania           16.6    28.0       6.55   48.6        9930   \n",
       "2              Algeria           27.3    38.4       4.17   31.4       12900   \n",
       "3               Angola          119.0    62.3       2.85   42.9        5900   \n",
       "4  Antigua and Barbuda           10.3    45.5       6.03   58.9       19100   \n",
       "\n",
       "   Inflasi  Harapan_hidup  Jumlah_fertiliti  GDPperkapita  \n",
       "0     9.44           56.2              5.82           553  \n",
       "1     4.49           76.3              1.65          4090  \n",
       "2    16.10           76.5              2.89          4460  \n",
       "3    22.40           60.1              6.16          3530  \n",
       "4     1.44           76.8              2.13         12200  "
      ]
     },
     "metadata": {},
     "output_type": "display_data"
    },
    {
     "data": {
      "text/html": [
       "<div>\n",
       "<style scoped>\n",
       "    .dataframe tbody tr th:only-of-type {\n",
       "        vertical-align: middle;\n",
       "    }\n",
       "\n",
       "    .dataframe tbody tr th {\n",
       "        vertical-align: top;\n",
       "    }\n",
       "\n",
       "    .dataframe thead th {\n",
       "        text-align: right;\n",
       "    }\n",
       "</style>\n",
       "<table border=\"1\" class=\"dataframe\">\n",
       "  <thead>\n",
       "    <tr style=\"text-align: right;\">\n",
       "      <th></th>\n",
       "      <th>Negara</th>\n",
       "      <th>Kematian_anak</th>\n",
       "      <th>Ekspor</th>\n",
       "      <th>Kesehatan</th>\n",
       "      <th>Impor</th>\n",
       "      <th>Pendapatan</th>\n",
       "      <th>Inflasi</th>\n",
       "      <th>Harapan_hidup</th>\n",
       "      <th>Jumlah_fertiliti</th>\n",
       "      <th>GDPperkapita</th>\n",
       "    </tr>\n",
       "  </thead>\n",
       "  <tbody>\n",
       "    <tr>\n",
       "      <th>162</th>\n",
       "      <td>Vanuatu</td>\n",
       "      <td>29.2</td>\n",
       "      <td>46.6</td>\n",
       "      <td>5.25</td>\n",
       "      <td>52.7</td>\n",
       "      <td>2950</td>\n",
       "      <td>2.62</td>\n",
       "      <td>63.0</td>\n",
       "      <td>3.50</td>\n",
       "      <td>2970</td>\n",
       "    </tr>\n",
       "    <tr>\n",
       "      <th>163</th>\n",
       "      <td>Venezuela</td>\n",
       "      <td>17.1</td>\n",
       "      <td>28.5</td>\n",
       "      <td>4.91</td>\n",
       "      <td>17.6</td>\n",
       "      <td>16500</td>\n",
       "      <td>45.90</td>\n",
       "      <td>75.4</td>\n",
       "      <td>2.47</td>\n",
       "      <td>13500</td>\n",
       "    </tr>\n",
       "    <tr>\n",
       "      <th>164</th>\n",
       "      <td>Vietnam</td>\n",
       "      <td>23.3</td>\n",
       "      <td>72.0</td>\n",
       "      <td>6.84</td>\n",
       "      <td>80.2</td>\n",
       "      <td>4490</td>\n",
       "      <td>12.10</td>\n",
       "      <td>73.1</td>\n",
       "      <td>1.95</td>\n",
       "      <td>1310</td>\n",
       "    </tr>\n",
       "    <tr>\n",
       "      <th>165</th>\n",
       "      <td>Yemen</td>\n",
       "      <td>56.3</td>\n",
       "      <td>30.0</td>\n",
       "      <td>5.18</td>\n",
       "      <td>34.4</td>\n",
       "      <td>4480</td>\n",
       "      <td>23.60</td>\n",
       "      <td>67.5</td>\n",
       "      <td>4.67</td>\n",
       "      <td>1310</td>\n",
       "    </tr>\n",
       "    <tr>\n",
       "      <th>166</th>\n",
       "      <td>Zambia</td>\n",
       "      <td>83.1</td>\n",
       "      <td>37.0</td>\n",
       "      <td>5.89</td>\n",
       "      <td>30.9</td>\n",
       "      <td>3280</td>\n",
       "      <td>14.00</td>\n",
       "      <td>52.0</td>\n",
       "      <td>5.40</td>\n",
       "      <td>1460</td>\n",
       "    </tr>\n",
       "  </tbody>\n",
       "</table>\n",
       "</div>"
      ],
      "text/plain": [
       "        Negara  Kematian_anak  Ekspor  Kesehatan  Impor  Pendapatan  Inflasi  \\\n",
       "162    Vanuatu           29.2    46.6       5.25   52.7        2950     2.62   \n",
       "163  Venezuela           17.1    28.5       4.91   17.6       16500    45.90   \n",
       "164    Vietnam           23.3    72.0       6.84   80.2        4490    12.10   \n",
       "165      Yemen           56.3    30.0       5.18   34.4        4480    23.60   \n",
       "166     Zambia           83.1    37.0       5.89   30.9        3280    14.00   \n",
       "\n",
       "     Harapan_hidup  Jumlah_fertiliti  GDPperkapita  \n",
       "162           63.0              3.50          2970  \n",
       "163           75.4              2.47         13500  \n",
       "164           73.1              1.95          1310  \n",
       "165           67.5              4.67          1310  \n",
       "166           52.0              5.40          1460  "
      ]
     },
     "metadata": {},
     "output_type": "display_data"
    }
   ],
   "source": [
    "# 5 data awal dan akhir\n",
    "display(df.head())\n",
    "display(df.tail())"
   ]
  },
  {
   "cell_type": "code",
   "execution_count": 5,
   "id": "5803dbee",
   "metadata": {},
   "outputs": [
    {
     "name": "stdout",
     "output_type": "stream",
     "text": [
      "<class 'pandas.core.frame.DataFrame'>\n",
      "RangeIndex: 167 entries, 0 to 166\n",
      "Data columns (total 10 columns):\n",
      " #   Column            Non-Null Count  Dtype  \n",
      "---  ------            --------------  -----  \n",
      " 0   Negara            167 non-null    object \n",
      " 1   Kematian_anak     167 non-null    float64\n",
      " 2   Ekspor            167 non-null    float64\n",
      " 3   Kesehatan         167 non-null    float64\n",
      " 4   Impor             167 non-null    float64\n",
      " 5   Pendapatan        167 non-null    int64  \n",
      " 6   Inflasi           167 non-null    float64\n",
      " 7   Harapan_hidup     167 non-null    float64\n",
      " 8   Jumlah_fertiliti  167 non-null    float64\n",
      " 9   GDPperkapita      167 non-null    int64  \n",
      "dtypes: float64(7), int64(2), object(1)\n",
      "memory usage: 13.2+ KB\n"
     ]
    },
    {
     "data": {
      "text/plain": [
       "None"
      ]
     },
     "metadata": {},
     "output_type": "display_data"
    },
    {
     "name": "stdout",
     "output_type": "stream",
     "text": [
      "<Info Is null>\n"
     ]
    },
    {
     "data": {
      "text/plain": [
       "Negara              0\n",
       "Kematian_anak       0\n",
       "Ekspor              0\n",
       "Kesehatan           0\n",
       "Impor               0\n",
       "Pendapatan          0\n",
       "Inflasi             0\n",
       "Harapan_hidup       0\n",
       "Jumlah_fertiliti    0\n",
       "GDPperkapita        0\n",
       "dtype: int64"
      ]
     },
     "metadata": {},
     "output_type": "display_data"
    },
    {
     "data": {
      "text/html": [
       "<div>\n",
       "<style scoped>\n",
       "    .dataframe tbody tr th:only-of-type {\n",
       "        vertical-align: middle;\n",
       "    }\n",
       "\n",
       "    .dataframe tbody tr th {\n",
       "        vertical-align: top;\n",
       "    }\n",
       "\n",
       "    .dataframe thead th {\n",
       "        text-align: right;\n",
       "    }\n",
       "</style>\n",
       "<table border=\"1\" class=\"dataframe\">\n",
       "  <thead>\n",
       "    <tr style=\"text-align: right;\">\n",
       "      <th></th>\n",
       "      <th>Kematian_anak</th>\n",
       "      <th>Ekspor</th>\n",
       "      <th>Kesehatan</th>\n",
       "      <th>Impor</th>\n",
       "      <th>Pendapatan</th>\n",
       "      <th>Inflasi</th>\n",
       "      <th>Harapan_hidup</th>\n",
       "      <th>Jumlah_fertiliti</th>\n",
       "      <th>GDPperkapita</th>\n",
       "    </tr>\n",
       "  </thead>\n",
       "  <tbody>\n",
       "    <tr>\n",
       "      <th>count</th>\n",
       "      <td>167.000000</td>\n",
       "      <td>167.000000</td>\n",
       "      <td>167.000000</td>\n",
       "      <td>167.000000</td>\n",
       "      <td>167.000000</td>\n",
       "      <td>167.000000</td>\n",
       "      <td>167.000000</td>\n",
       "      <td>167.000000</td>\n",
       "      <td>167.000000</td>\n",
       "    </tr>\n",
       "    <tr>\n",
       "      <th>mean</th>\n",
       "      <td>38.270060</td>\n",
       "      <td>41.108976</td>\n",
       "      <td>6.815689</td>\n",
       "      <td>46.890215</td>\n",
       "      <td>17144.688623</td>\n",
       "      <td>7.781832</td>\n",
       "      <td>70.555689</td>\n",
       "      <td>2.947964</td>\n",
       "      <td>12964.155689</td>\n",
       "    </tr>\n",
       "    <tr>\n",
       "      <th>std</th>\n",
       "      <td>40.328931</td>\n",
       "      <td>27.412010</td>\n",
       "      <td>2.746837</td>\n",
       "      <td>24.209589</td>\n",
       "      <td>19278.067698</td>\n",
       "      <td>10.570704</td>\n",
       "      <td>8.893172</td>\n",
       "      <td>1.513848</td>\n",
       "      <td>18328.704809</td>\n",
       "    </tr>\n",
       "    <tr>\n",
       "      <th>min</th>\n",
       "      <td>2.600000</td>\n",
       "      <td>0.109000</td>\n",
       "      <td>1.810000</td>\n",
       "      <td>0.065900</td>\n",
       "      <td>609.000000</td>\n",
       "      <td>-4.210000</td>\n",
       "      <td>32.100000</td>\n",
       "      <td>1.150000</td>\n",
       "      <td>231.000000</td>\n",
       "    </tr>\n",
       "    <tr>\n",
       "      <th>25%</th>\n",
       "      <td>8.250000</td>\n",
       "      <td>23.800000</td>\n",
       "      <td>4.920000</td>\n",
       "      <td>30.200000</td>\n",
       "      <td>3355.000000</td>\n",
       "      <td>1.810000</td>\n",
       "      <td>65.300000</td>\n",
       "      <td>1.795000</td>\n",
       "      <td>1330.000000</td>\n",
       "    </tr>\n",
       "    <tr>\n",
       "      <th>50%</th>\n",
       "      <td>19.300000</td>\n",
       "      <td>35.000000</td>\n",
       "      <td>6.320000</td>\n",
       "      <td>43.300000</td>\n",
       "      <td>9960.000000</td>\n",
       "      <td>5.390000</td>\n",
       "      <td>73.100000</td>\n",
       "      <td>2.410000</td>\n",
       "      <td>4660.000000</td>\n",
       "    </tr>\n",
       "    <tr>\n",
       "      <th>75%</th>\n",
       "      <td>62.100000</td>\n",
       "      <td>51.350000</td>\n",
       "      <td>8.600000</td>\n",
       "      <td>58.750000</td>\n",
       "      <td>22800.000000</td>\n",
       "      <td>10.750000</td>\n",
       "      <td>76.800000</td>\n",
       "      <td>3.880000</td>\n",
       "      <td>14050.000000</td>\n",
       "    </tr>\n",
       "    <tr>\n",
       "      <th>max</th>\n",
       "      <td>208.000000</td>\n",
       "      <td>200.000000</td>\n",
       "      <td>17.900000</td>\n",
       "      <td>174.000000</td>\n",
       "      <td>125000.000000</td>\n",
       "      <td>104.000000</td>\n",
       "      <td>82.800000</td>\n",
       "      <td>7.490000</td>\n",
       "      <td>105000.000000</td>\n",
       "    </tr>\n",
       "  </tbody>\n",
       "</table>\n",
       "</div>"
      ],
      "text/plain": [
       "       Kematian_anak      Ekspor   Kesehatan       Impor     Pendapatan  \\\n",
       "count     167.000000  167.000000  167.000000  167.000000     167.000000   \n",
       "mean       38.270060   41.108976    6.815689   46.890215   17144.688623   \n",
       "std        40.328931   27.412010    2.746837   24.209589   19278.067698   \n",
       "min         2.600000    0.109000    1.810000    0.065900     609.000000   \n",
       "25%         8.250000   23.800000    4.920000   30.200000    3355.000000   \n",
       "50%        19.300000   35.000000    6.320000   43.300000    9960.000000   \n",
       "75%        62.100000   51.350000    8.600000   58.750000   22800.000000   \n",
       "max       208.000000  200.000000   17.900000  174.000000  125000.000000   \n",
       "\n",
       "          Inflasi  Harapan_hidup  Jumlah_fertiliti   GDPperkapita  \n",
       "count  167.000000     167.000000        167.000000     167.000000  \n",
       "mean     7.781832      70.555689          2.947964   12964.155689  \n",
       "std     10.570704       8.893172          1.513848   18328.704809  \n",
       "min     -4.210000      32.100000          1.150000     231.000000  \n",
       "25%      1.810000      65.300000          1.795000    1330.000000  \n",
       "50%      5.390000      73.100000          2.410000    4660.000000  \n",
       "75%     10.750000      76.800000          3.880000   14050.000000  \n",
       "max    104.000000      82.800000          7.490000  105000.000000  "
      ]
     },
     "metadata": {},
     "output_type": "display_data"
    }
   ],
   "source": [
    "#Info data dan missing value\n",
    "display(df.info())\n",
    "print('<Info Is null>')\n",
    "display(df.isnull().sum())\n",
    "display(df.describe())"
   ]
  },
  {
   "cell_type": "markdown",
   "id": "17f7d2e8",
   "metadata": {},
   "source": [
    "# Step 2: Exploratory Data Analysis"
   ]
  },
  {
   "cell_type": "markdown",
   "id": "64998222",
   "metadata": {},
   "source": [
    "#### Univariate Analysis"
   ]
  },
  {
   "cell_type": "code",
   "execution_count": 6,
   "id": "2bb462cf",
   "metadata": {},
   "outputs": [
    {
     "data": {
      "image/png": "[encoded data removed]",
      "text/plain": [
       "<Figure size 864x576 with 9 Axes>"
      ]
     },
     "metadata": {
      "needs_background": "light"
     },
     "output_type": "display_data"
    }
   ],
   "source": [
    "plt.figure(figsize=(12,8))\n",
    "\n",
    "for i in enumerate(df.describe().columns):\n",
    "  plt.subplot(3,3, i[0]+1)\n",
    "  sns.distplot(df[i[1]])\n",
    "plt.tight_layout()\n",
    "plt.show()"
   ]
  },
  {
   "cell_type": "markdown",
   "id": "ec9047ee",
   "metadata": {},
   "source": [
    "#### Bivariate Analysis"
   ]
  },
  {
   "cell_type": "code",
   "execution_count": 7,
   "id": "7fb93efc",
   "metadata": {},
   "outputs": [
    {
     "data": {
      "text/html": [
       "<div>\n",
       "<style scoped>\n",
       "    .dataframe tbody tr th:only-of-type {\n",
       "        vertical-align: middle;\n",
       "    }\n",
       "\n",
       "    .dataframe tbody tr th {\n",
       "        vertical-align: top;\n",
       "    }\n",
       "\n",
       "    .dataframe thead th {\n",
       "        text-align: right;\n",
       "    }\n",
       "</style>\n",
       "<table border=\"1\" class=\"dataframe\">\n",
       "  <thead>\n",
       "    <tr style=\"text-align: right;\">\n",
       "      <th></th>\n",
       "      <th>Negara</th>\n",
       "      <th>Ekspor</th>\n",
       "      <th>Impor</th>\n",
       "      <th>Pendapatan</th>\n",
       "      <th>Inflasi</th>\n",
       "      <th>GDPperkapita</th>\n",
       "    </tr>\n",
       "  </thead>\n",
       "  <tbody>\n",
       "    <tr>\n",
       "      <th>123</th>\n",
       "      <td>Qatar</td>\n",
       "      <td>62.30</td>\n",
       "      <td>23.8</td>\n",
       "      <td>125000</td>\n",
       "      <td>6.980</td>\n",
       "      <td>70300</td>\n",
       "    </tr>\n",
       "    <tr>\n",
       "      <th>91</th>\n",
       "      <td>Luxembourg</td>\n",
       "      <td>175.00</td>\n",
       "      <td>142.0</td>\n",
       "      <td>91700</td>\n",
       "      <td>3.620</td>\n",
       "      <td>105000</td>\n",
       "    </tr>\n",
       "    <tr>\n",
       "      <th>23</th>\n",
       "      <td>Brunei</td>\n",
       "      <td>67.40</td>\n",
       "      <td>28.0</td>\n",
       "      <td>80600</td>\n",
       "      <td>16.700</td>\n",
       "      <td>35300</td>\n",
       "    </tr>\n",
       "    <tr>\n",
       "      <th>82</th>\n",
       "      <td>Kuwait</td>\n",
       "      <td>66.70</td>\n",
       "      <td>30.4</td>\n",
       "      <td>75200</td>\n",
       "      <td>11.200</td>\n",
       "      <td>38500</td>\n",
       "    </tr>\n",
       "    <tr>\n",
       "      <th>133</th>\n",
       "      <td>Singapore</td>\n",
       "      <td>200.00</td>\n",
       "      <td>174.0</td>\n",
       "      <td>72100</td>\n",
       "      <td>-0.046</td>\n",
       "      <td>46600</td>\n",
       "    </tr>\n",
       "    <tr>\n",
       "      <th>...</th>\n",
       "      <td>...</td>\n",
       "      <td>...</td>\n",
       "      <td>...</td>\n",
       "      <td>...</td>\n",
       "      <td>...</td>\n",
       "      <td>...</td>\n",
       "    </tr>\n",
       "    <tr>\n",
       "      <th>31</th>\n",
       "      <td>Central African Republic</td>\n",
       "      <td>11.80</td>\n",
       "      <td>26.5</td>\n",
       "      <td>888</td>\n",
       "      <td>2.010</td>\n",
       "      <td>446</td>\n",
       "    </tr>\n",
       "    <tr>\n",
       "      <th>112</th>\n",
       "      <td>Niger</td>\n",
       "      <td>22.20</td>\n",
       "      <td>49.1</td>\n",
       "      <td>814</td>\n",
       "      <td>2.550</td>\n",
       "      <td>348</td>\n",
       "    </tr>\n",
       "    <tr>\n",
       "      <th>26</th>\n",
       "      <td>Burundi</td>\n",
       "      <td>8.92</td>\n",
       "      <td>39.2</td>\n",
       "      <td>764</td>\n",
       "      <td>12.300</td>\n",
       "      <td>231</td>\n",
       "    </tr>\n",
       "    <tr>\n",
       "      <th>88</th>\n",
       "      <td>Liberia</td>\n",
       "      <td>19.10</td>\n",
       "      <td>92.6</td>\n",
       "      <td>700</td>\n",
       "      <td>5.470</td>\n",
       "      <td>327</td>\n",
       "    </tr>\n",
       "    <tr>\n",
       "      <th>37</th>\n",
       "      <td>Congo, Dem. Rep.</td>\n",
       "      <td>41.10</td>\n",
       "      <td>49.6</td>\n",
       "      <td>609</td>\n",
       "      <td>20.800</td>\n",
       "      <td>334</td>\n",
       "    </tr>\n",
       "  </tbody>\n",
       "</table>\n",
       "<p>167 rows × 6 columns</p>\n",
       "</div>"
      ],
      "text/plain": [
       "                       Negara  Ekspor  Impor  Pendapatan  Inflasi  \\\n",
       "123                     Qatar   62.30   23.8      125000    6.980   \n",
       "91                 Luxembourg  175.00  142.0       91700    3.620   \n",
       "23                     Brunei   67.40   28.0       80600   16.700   \n",
       "82                     Kuwait   66.70   30.4       75200   11.200   \n",
       "133                 Singapore  200.00  174.0       72100   -0.046   \n",
       "..                        ...     ...    ...         ...      ...   \n",
       "31   Central African Republic   11.80   26.5         888    2.010   \n",
       "112                     Niger   22.20   49.1         814    2.550   \n",
       "26                    Burundi    8.92   39.2         764   12.300   \n",
       "88                    Liberia   19.10   92.6         700    5.470   \n",
       "37           Congo, Dem. Rep.   41.10   49.6         609   20.800   \n",
       "\n",
       "     GDPperkapita  \n",
       "123         70300  \n",
       "91         105000  \n",
       "23          35300  \n",
       "82          38500  \n",
       "133         46600  \n",
       "..            ...  \n",
       "31            446  \n",
       "112           348  \n",
       "26            231  \n",
       "88            327  \n",
       "37            334  \n",
       "\n",
       "[167 rows x 6 columns]"
      ]
     },
     "metadata": {},
     "output_type": "display_data"
    }
   ],
   "source": [
    "# ekonomi\n",
    "# sort berdasarkan pendapatan negara\n",
    "ekonomi = df.sort_values('Pendapatan', ascending=False) \n",
    "\n",
    "# drop kolom\n",
    "kolom=['Kematian_anak','Kesehatan','Harapan_hidup','Jumlah_fertiliti']\n",
    "ekonomi.drop(kolom, axis=1, inplace=True)\n",
    "display(ekonomi)\n"
   ]
  },
  {
   "cell_type": "code",
   "execution_count": 8,
   "id": "64c57465",
   "metadata": {},
   "outputs": [
    {
     "data": {
      "image/png": "[encoded data removed]",
      "text/plain": [
       "<Figure size 720x864 with 5 Axes>"
      ]
     },
     "metadata": {
      "needs_background": "light"
     },
     "output_type": "display_data"
    }
   ],
   "source": [
    "# ekonomi\n",
    "plt.figure(figsize=(10,12))\n",
    "plt.subplot(5,1,1)\n",
    "sns.barplot(ekonomi.Negara.head(), ekonomi.Pendapatan.head())\n",
    "plt.subplot(5,1,2)\n",
    "sns.barplot(ekonomi.Negara.head(), ekonomi.GDPperkapita.head())\n",
    "plt.subplot(5,1,3)\n",
    "sns.barplot(ekonomi.Negara.head(), ekonomi.Impor.head())\n",
    "plt.subplot(5,1,4)\n",
    "sns.barplot(ekonomi.Negara.head(), ekonomi.Ekspor.head())\n",
    "plt.subplot(5,1,5)\n",
    "sns.barplot(ekonomi.Negara.head(), ekonomi.Inflasi.head())\n",
    "\n",
    "plt.savefig('Head ekonomi.png', dpi=300)\n",
    "\n",
    "plt.tight_layout()\n",
    "plt.show()"
   ]
  },
  {
   "cell_type": "code",
   "execution_count": 9,
   "id": "95e03930",
   "metadata": {},
   "outputs": [
    {
     "data": {
      "image/png": "[encoded data removed]",
      "text/plain": [
       "<Figure size 720x864 with 5 Axes>"
      ]
     },
     "metadata": {
      "needs_background": "light"
     },
     "output_type": "display_data"
    }
   ],
   "source": [
    "# ekonomi\n",
    "plt.figure(figsize=(10,12))\n",
    "plt.subplot(5,1,1)\n",
    "sns.barplot(ekonomi.Negara.tail(), ekonomi.Pendapatan.tail())\n",
    "plt.subplot(5,1,2)\n",
    "sns.barplot(ekonomi.Negara.tail(), ekonomi.GDPperkapita.tail())\n",
    "plt.subplot(5,1,3)\n",
    "sns.barplot(ekonomi.Negara.tail(), ekonomi.Impor.tail())\n",
    "plt.subplot(5,1,4)\n",
    "sns.barplot(ekonomi.Negara.tail(), ekonomi.Ekspor.tail())\n",
    "plt.subplot(5,1,5)\n",
    "sns.barplot(ekonomi.Negara.tail(), ekonomi.Inflasi.tail())\n",
    "\n",
    "plt.savefig('tail ekonomi.png', dpi=300)\n",
    "plt.tight_layout()\n",
    "plt.show()"
   ]
  },
  {
   "cell_type": "code",
   "execution_count": 10,
   "id": "62b550e4",
   "metadata": {},
   "outputs": [
    {
     "data": {
      "text/html": [
       "<div>\n",
       "<style scoped>\n",
       "    .dataframe tbody tr th:only-of-type {\n",
       "        vertical-align: middle;\n",
       "    }\n",
       "\n",
       "    .dataframe tbody tr th {\n",
       "        vertical-align: top;\n",
       "    }\n",
       "\n",
       "    .dataframe thead th {\n",
       "        text-align: right;\n",
       "    }\n",
       "</style>\n",
       "<table border=\"1\" class=\"dataframe\">\n",
       "  <thead>\n",
       "    <tr style=\"text-align: right;\">\n",
       "      <th></th>\n",
       "      <th>Negara</th>\n",
       "      <th>Kematian_anak</th>\n",
       "      <th>Kesehatan</th>\n",
       "      <th>Harapan_hidup</th>\n",
       "      <th>Jumlah_fertiliti</th>\n",
       "    </tr>\n",
       "  </thead>\n",
       "  <tbody>\n",
       "    <tr>\n",
       "      <th>66</th>\n",
       "      <td>Haiti</td>\n",
       "      <td>208.0</td>\n",
       "      <td>6.91</td>\n",
       "      <td>32.1</td>\n",
       "      <td>3.33</td>\n",
       "    </tr>\n",
       "    <tr>\n",
       "      <th>132</th>\n",
       "      <td>Sierra Leone</td>\n",
       "      <td>160.0</td>\n",
       "      <td>13.10</td>\n",
       "      <td>55.0</td>\n",
       "      <td>5.20</td>\n",
       "    </tr>\n",
       "    <tr>\n",
       "      <th>32</th>\n",
       "      <td>Chad</td>\n",
       "      <td>150.0</td>\n",
       "      <td>4.53</td>\n",
       "      <td>56.5</td>\n",
       "      <td>6.59</td>\n",
       "    </tr>\n",
       "    <tr>\n",
       "      <th>31</th>\n",
       "      <td>Central African Republic</td>\n",
       "      <td>149.0</td>\n",
       "      <td>3.98</td>\n",
       "      <td>47.5</td>\n",
       "      <td>5.21</td>\n",
       "    </tr>\n",
       "    <tr>\n",
       "      <th>97</th>\n",
       "      <td>Mali</td>\n",
       "      <td>137.0</td>\n",
       "      <td>4.98</td>\n",
       "      <td>59.5</td>\n",
       "      <td>6.55</td>\n",
       "    </tr>\n",
       "    <tr>\n",
       "      <th>...</th>\n",
       "      <td>...</td>\n",
       "      <td>...</td>\n",
       "      <td>...</td>\n",
       "      <td>...</td>\n",
       "      <td>...</td>\n",
       "    </tr>\n",
       "    <tr>\n",
       "      <th>53</th>\n",
       "      <td>Finland</td>\n",
       "      <td>3.0</td>\n",
       "      <td>8.95</td>\n",
       "      <td>80.0</td>\n",
       "      <td>1.87</td>\n",
       "    </tr>\n",
       "    <tr>\n",
       "      <th>144</th>\n",
       "      <td>Sweden</td>\n",
       "      <td>3.0</td>\n",
       "      <td>9.63</td>\n",
       "      <td>81.5</td>\n",
       "      <td>1.98</td>\n",
       "    </tr>\n",
       "    <tr>\n",
       "      <th>133</th>\n",
       "      <td>Singapore</td>\n",
       "      <td>2.8</td>\n",
       "      <td>3.96</td>\n",
       "      <td>82.7</td>\n",
       "      <td>1.15</td>\n",
       "    </tr>\n",
       "    <tr>\n",
       "      <th>91</th>\n",
       "      <td>Luxembourg</td>\n",
       "      <td>2.8</td>\n",
       "      <td>7.77</td>\n",
       "      <td>81.3</td>\n",
       "      <td>1.63</td>\n",
       "    </tr>\n",
       "    <tr>\n",
       "      <th>68</th>\n",
       "      <td>Iceland</td>\n",
       "      <td>2.6</td>\n",
       "      <td>9.40</td>\n",
       "      <td>82.0</td>\n",
       "      <td>2.20</td>\n",
       "    </tr>\n",
       "  </tbody>\n",
       "</table>\n",
       "<p>167 rows × 5 columns</p>\n",
       "</div>"
      ],
      "text/plain": [
       "                       Negara  Kematian_anak  Kesehatan  Harapan_hidup  \\\n",
       "66                      Haiti          208.0       6.91           32.1   \n",
       "132              Sierra Leone          160.0      13.10           55.0   \n",
       "32                       Chad          150.0       4.53           56.5   \n",
       "31   Central African Republic          149.0       3.98           47.5   \n",
       "97                       Mali          137.0       4.98           59.5   \n",
       "..                        ...            ...        ...            ...   \n",
       "53                    Finland            3.0       8.95           80.0   \n",
       "144                    Sweden            3.0       9.63           81.5   \n",
       "133                 Singapore            2.8       3.96           82.7   \n",
       "91                 Luxembourg            2.8       7.77           81.3   \n",
       "68                    Iceland            2.6       9.40           82.0   \n",
       "\n",
       "     Jumlah_fertiliti  \n",
       "66               3.33  \n",
       "132              5.20  \n",
       "32               6.59  \n",
       "31               5.21  \n",
       "97               6.55  \n",
       "..                ...  \n",
       "53               1.87  \n",
       "144              1.98  \n",
       "133              1.15  \n",
       "91               1.63  \n",
       "68               2.20  \n",
       "\n",
       "[167 rows x 5 columns]"
      ]
     },
     "metadata": {},
     "output_type": "display_data"
    }
   ],
   "source": [
    "# kesehatan\n",
    "# sort berdasarkan kesehatan\n",
    "health =  df.sort_values('Kematian_anak', ascending=False)\n",
    "\n",
    "# drop kolom\n",
    "kolom=['Ekspor','Impor','Pendapatan','Inflasi','GDPperkapita']\n",
    "health.drop(kolom, axis=1, inplace=True)\n",
    "display(health)\n"
   ]
  },
  {
   "cell_type": "code",
   "execution_count": 11,
   "id": "70d7b6cf",
   "metadata": {},
   "outputs": [
    {
     "data": {
      "image/png": "[encoded data removed]",
      "text/plain": [
       "<Figure size 720x864 with 4 Axes>"
      ]
     },
     "metadata": {
      "needs_background": "light"
     },
     "output_type": "display_data"
    }
   ],
   "source": [
    "plt.figure(figsize=(10,12))\n",
    "plt.subplot(4,1,1)\n",
    "sns.barplot(health.Negara.head(), health.Kematian_anak.head())\n",
    "plt.subplot(4,1,2)\n",
    "sns.barplot(health.Negara.head(), health.Kesehatan.head())\n",
    "plt.subplot(4,1,3)\n",
    "sns.barplot(health.Negara.head(), health.Harapan_hidup.head())\n",
    "plt.subplot(4,1,4)\n",
    "sns.barplot(health.Negara.head(), health.Jumlah_fertiliti.head())\n",
    "\n",
    "plt.savefig('head kesehatan.png', dpi=300)\n",
    "plt.tight_layout()\n",
    "plt.show()"
   ]
  },
  {
   "cell_type": "code",
   "execution_count": 12,
   "id": "18557ffc",
   "metadata": {},
   "outputs": [
    {
     "data": {
      "image/png": "[encoded data removed]",
      "text/plain": [
       "<Figure size 720x864 with 4 Axes>"
      ]
     },
     "metadata": {
      "needs_background": "light"
     },
     "output_type": "display_data"
    }
   ],
   "source": [
    "plt.figure(figsize=(10,12))\n",
    "plt.subplot(4,1,1)\n",
    "sns.barplot(health.Negara.tail(), health.Kematian_anak.tail())\n",
    "plt.subplot(4,1,2)\n",
    "sns.barplot(health.Negara.tail(), health.Kesehatan.tail())\n",
    "plt.subplot(4,1,3)\n",
    "sns.barplot(health.Negara.tail(), health.Harapan_hidup.tail())\n",
    "plt.subplot(4,1,4)\n",
    "sns.barplot(health.Negara.tail(), health.Jumlah_fertiliti.tail())\n",
    "\n",
    "plt.savefig('tail kesehatan.png', dpi=300)\n",
    "plt.tight_layout()\n",
    "plt.show()"
   ]
  },
  {
   "cell_type": "markdown",
   "id": "d2f13f6d",
   "metadata": {},
   "source": [
    "#### Univariate Analysis\n"
   ]
  },
  {
   "cell_type": "code",
   "execution_count": 13,
   "id": "783c3d5a",
   "metadata": {},
   "outputs": [
    {
     "data": {
      "image/png": "[encoded data removed]",
      "text/plain": [
       "<Figure size 432x288 with 2 Axes>"
      ]
     },
     "metadata": {
      "needs_background": "light"
     },
     "output_type": "display_data"
    }
   ],
   "source": [
    "# aspek ekonomi\n",
    "sns.heatmap(ekonomi.corr(), annot=True, fmt='.2g');\n",
    "\n",
    "plt.savefig('uni ekonomi.png', dpi=300)\n"
   ]
  },
  {
   "cell_type": "code",
   "execution_count": 14,
   "id": "a99edf33",
   "metadata": {},
   "outputs": [
    {
     "data": {
      "image/png": "[encoded data removed]",
      "text/plain": [
       "<Figure size 432x288 with 2 Axes>"
      ]
     },
     "metadata": {
      "needs_background": "light"
     },
     "output_type": "display_data"
    }
   ],
   "source": [
    "#aspek kesehatan\n",
    "sns.heatmap(health.corr(), annot=True, fmt='.2g');\n",
    "plt.savefig('uni kesehatan.png', dpi=300)"
   ]
  },
  {
   "cell_type": "markdown",
   "id": "a5c8bf44",
   "metadata": {},
   "source": [
    "# Outlier Treatment"
   ]
  },
  {
   "cell_type": "markdown",
   "id": "110266cf",
   "metadata": {},
   "source": [
    "###### Aspek Ekonomi"
   ]
  },
  {
   "cell_type": "code",
   "execution_count": 15,
   "id": "6edb4520",
   "metadata": {
    "scrolled": true
   },
   "outputs": [
    {
     "data": {
      "text/plain": [
       "<AxesSubplot:xlabel='Pendapatan'>"
      ]
     },
     "execution_count": 15,
     "metadata": {},
     "output_type": "execute_result"
    },
    {
     "data": {
      "image/png": "[encoded data removed]",
      "text/plain": [
       "<Figure size 432x288 with 1 Axes>"
      ]
     },
     "metadata": {
      "needs_background": "light"
     },
     "output_type": "display_data"
    }
   ],
   "source": [
    "sns.boxplot('Pendapatan', data=df)"
   ]
  },
  {
   "cell_type": "code",
   "execution_count": 16,
   "id": "3564c048",
   "metadata": {},
   "outputs": [
    {
     "data": {
      "text/plain": [
       "<AxesSubplot:xlabel='GDPperkapita'>"
      ]
     },
     "execution_count": 16,
     "metadata": {},
     "output_type": "execute_result"
    },
    {
     "data": {
      "image/png": "[encoded data removed]",
      "text/plain": [
       "<Figure size 432x288 with 1 Axes>"
      ]
     },
     "metadata": {
      "needs_background": "light"
     },
     "output_type": "display_data"
    }
   ],
   "source": [
    "sns.boxplot('GDPperkapita', data=df)"
   ]
  },
  {
   "cell_type": "code",
   "execution_count": 17,
   "id": "d9fddd65",
   "metadata": {},
   "outputs": [],
   "source": [
    "# pencilan atau outlier\n",
    "def pencilan (df):\n",
    "  Q1 = df.quantile(0.25)\n",
    "  Q3 = df.quantile(0.75)\n",
    "  IQR  = Q3-Q1\n",
    "  df_final = df[(df<(Q1-(1.5*IQR))) | (df>(Q3+(1.5*IQR)))]\n",
    "  return df_final"
   ]
  },
  {
   "cell_type": "code",
   "execution_count": 18,
   "id": "2fca6b0c",
   "metadata": {},
   "outputs": [
    {
     "name": "stdout",
     "output_type": "stream",
     "text": [
      "23      80600\n",
      "82      75200\n",
      "91      91700\n",
      "114     62300\n",
      "123    125000\n",
      "133     72100\n",
      "145     55500\n",
      "157     57600\n",
      "Name: Pendapatan, dtype: int64\n",
      "7       51900\n",
      "8       46900\n",
      "15      44400\n",
      "23      35300\n",
      "29      47400\n",
      "44      58000\n",
      "53      46200\n",
      "54      40600\n",
      "58      41800\n",
      "68      41900\n",
      "73      48700\n",
      "75      35800\n",
      "77      44500\n",
      "82      38500\n",
      "91     105000\n",
      "110     50300\n",
      "111     33700\n",
      "114     87800\n",
      "123     70300\n",
      "133     46600\n",
      "144     52100\n",
      "145     74600\n",
      "157     35000\n",
      "158     38900\n",
      "159     48400\n",
      "Name: GDPperkapita, dtype: int64\n"
     ]
    }
   ],
   "source": [
    "# aspek ekonomi\n",
    "print(pencilan(df['Pendapatan']))\n",
    "print(pencilan(df['GDPperkapita']))"
   ]
  },
  {
   "cell_type": "code",
   "execution_count": 19,
   "id": "9911d17c",
   "metadata": {},
   "outputs": [
    {
     "data": {
      "text/html": [
       "<div>\n",
       "<style scoped>\n",
       "    .dataframe tbody tr th:only-of-type {\n",
       "        vertical-align: middle;\n",
       "    }\n",
       "\n",
       "    .dataframe tbody tr th {\n",
       "        vertical-align: top;\n",
       "    }\n",
       "\n",
       "    .dataframe thead th {\n",
       "        text-align: right;\n",
       "    }\n",
       "</style>\n",
       "<table border=\"1\" class=\"dataframe\">\n",
       "  <thead>\n",
       "    <tr style=\"text-align: right;\">\n",
       "      <th></th>\n",
       "      <th>Pendapatan</th>\n",
       "      <th>GDPperkapita</th>\n",
       "      <th>Kematian_anak</th>\n",
       "      <th>Jumlah_fertiliti</th>\n",
       "    </tr>\n",
       "  </thead>\n",
       "  <tbody>\n",
       "    <tr>\n",
       "      <th>0</th>\n",
       "      <td>1610.0</td>\n",
       "      <td>553.0</td>\n",
       "      <td>90.2</td>\n",
       "      <td>5.82</td>\n",
       "    </tr>\n",
       "    <tr>\n",
       "      <th>1</th>\n",
       "      <td>9930.0</td>\n",
       "      <td>4090.0</td>\n",
       "      <td>16.6</td>\n",
       "      <td>1.65</td>\n",
       "    </tr>\n",
       "    <tr>\n",
       "      <th>2</th>\n",
       "      <td>12900.0</td>\n",
       "      <td>4460.0</td>\n",
       "      <td>27.3</td>\n",
       "      <td>2.89</td>\n",
       "    </tr>\n",
       "    <tr>\n",
       "      <th>3</th>\n",
       "      <td>5900.0</td>\n",
       "      <td>3530.0</td>\n",
       "      <td>119.0</td>\n",
       "      <td>6.16</td>\n",
       "    </tr>\n",
       "    <tr>\n",
       "      <th>4</th>\n",
       "      <td>19100.0</td>\n",
       "      <td>12200.0</td>\n",
       "      <td>10.3</td>\n",
       "      <td>2.13</td>\n",
       "    </tr>\n",
       "    <tr>\n",
       "      <th>...</th>\n",
       "      <td>...</td>\n",
       "      <td>...</td>\n",
       "      <td>...</td>\n",
       "      <td>...</td>\n",
       "    </tr>\n",
       "    <tr>\n",
       "      <th>162</th>\n",
       "      <td>2950.0</td>\n",
       "      <td>2970.0</td>\n",
       "      <td>29.2</td>\n",
       "      <td>3.50</td>\n",
       "    </tr>\n",
       "    <tr>\n",
       "      <th>163</th>\n",
       "      <td>16500.0</td>\n",
       "      <td>13500.0</td>\n",
       "      <td>17.1</td>\n",
       "      <td>2.47</td>\n",
       "    </tr>\n",
       "    <tr>\n",
       "      <th>164</th>\n",
       "      <td>4490.0</td>\n",
       "      <td>1310.0</td>\n",
       "      <td>23.3</td>\n",
       "      <td>1.95</td>\n",
       "    </tr>\n",
       "    <tr>\n",
       "      <th>165</th>\n",
       "      <td>4480.0</td>\n",
       "      <td>1310.0</td>\n",
       "      <td>56.3</td>\n",
       "      <td>4.67</td>\n",
       "    </tr>\n",
       "    <tr>\n",
       "      <th>166</th>\n",
       "      <td>3280.0</td>\n",
       "      <td>1460.0</td>\n",
       "      <td>83.1</td>\n",
       "      <td>5.40</td>\n",
       "    </tr>\n",
       "  </tbody>\n",
       "</table>\n",
       "<p>137 rows × 4 columns</p>\n",
       "</div>"
      ],
      "text/plain": [
       "     Pendapatan  GDPperkapita  Kematian_anak  Jumlah_fertiliti\n",
       "0        1610.0         553.0           90.2              5.82\n",
       "1        9930.0        4090.0           16.6              1.65\n",
       "2       12900.0        4460.0           27.3              2.89\n",
       "3        5900.0        3530.0          119.0              6.16\n",
       "4       19100.0       12200.0           10.3              2.13\n",
       "..          ...           ...            ...               ...\n",
       "162      2950.0        2970.0           29.2              3.50\n",
       "163     16500.0       13500.0           17.1              2.47\n",
       "164      4490.0        1310.0           23.3              1.95\n",
       "165      4480.0        1310.0           56.3              4.67\n",
       "166      3280.0        1460.0           83.1              5.40\n",
       "\n",
       "[137 rows x 4 columns]"
      ]
     },
     "execution_count": 19,
     "metadata": {},
     "output_type": "execute_result"
    }
   ],
   "source": [
    "#menghapus outlier (untuk kedua aspek yaitu kesehatan dan ekonomi. akan digunakan seterusnya)\n",
    "def hapus_pencilan(df):\n",
    "    Q1 =df.quantile(0.25)\n",
    "    Q3 = df.quantile(0.75)\n",
    "    IQR = Q3-Q1\n",
    "    batas_bawah=Q1-(IQR*1.5)\n",
    "    batas_atas=Q3+(IQR*1.5)\n",
    "    df_akhir=df[(df>batas_bawah)&(df<batas_atas)]\n",
    "    return df_akhir\n",
    "\n",
    "df_clean = hapus_pencilan(df[['Pendapatan','GDPperkapita','Kematian_anak','Jumlah_fertiliti']])\n",
    "df_clean.dropna(axis=0, inplace=True)\n",
    "df_clean"
   ]
  },
  {
   "cell_type": "code",
   "execution_count": 20,
   "id": "8e875322",
   "metadata": {},
   "outputs": [
    {
     "data": {
      "text/plain": [
       "<AxesSubplot:xlabel='Pendapatan'>"
      ]
     },
     "execution_count": 20,
     "metadata": {},
     "output_type": "execute_result"
    },
    {
     "data": {
      "image/png": "[encoded data removed]",
      "text/plain": [
       "<Figure size 432x288 with 1 Axes>"
      ]
     },
     "metadata": {
      "needs_background": "light"
     },
     "output_type": "display_data"
    }
   ],
   "source": [
    "#memeriksa outlier\n",
    "sns.boxplot('Pendapatan', data=df_clean)"
   ]
  },
  {
   "cell_type": "code",
   "execution_count": 21,
   "id": "3d67a031",
   "metadata": {},
   "outputs": [
    {
     "data": {
      "text/plain": [
       "<AxesSubplot:xlabel='GDPperkapita'>"
      ]
     },
     "execution_count": 21,
     "metadata": {},
     "output_type": "execute_result"
    },
    {
     "data": {
      "image/png": "[encoded data removed]",
      "text/plain": [
       "<Figure size 432x288 with 1 Axes>"
      ]
     },
     "metadata": {
      "needs_background": "light"
     },
     "output_type": "display_data"
    }
   ],
   "source": [
    "sns.boxplot('GDPperkapita', data=df_clean)"
   ]
  },
  {
   "cell_type": "markdown",
   "id": "4f03979c",
   "metadata": {},
   "source": [
    "###### Aspek kesehatan"
   ]
  },
  {
   "cell_type": "code",
   "execution_count": 22,
   "id": "85c69a69",
   "metadata": {},
   "outputs": [
    {
     "data": {
      "text/plain": [
       "<AxesSubplot:xlabel='Kematian_anak'>"
      ]
     },
     "execution_count": 22,
     "metadata": {},
     "output_type": "execute_result"
    },
    {
     "data": {
      "image/png": "[encoded data removed]",
      "text/plain": [
       "<Figure size 432x288 with 1 Axes>"
      ]
     },
     "metadata": {
      "needs_background": "light"
     },
     "output_type": "display_data"
    }
   ],
   "source": [
    "sns.boxplot('Kematian_anak', data=df)"
   ]
  },
  {
   "cell_type": "code",
   "execution_count": 23,
   "id": "8972464c",
   "metadata": {},
   "outputs": [
    {
     "data": {
      "text/plain": [
       "<AxesSubplot:xlabel='Jumlah_fertiliti'>"
      ]
     },
     "execution_count": 23,
     "metadata": {},
     "output_type": "execute_result"
    },
    {
     "data": {
      "image/png": "[encoded data removed]",
      "text/plain": [
       "<Figure size 432x288 with 1 Axes>"
      ]
     },
     "metadata": {
      "needs_background": "light"
     },
     "output_type": "display_data"
    }
   ],
   "source": [
    "sns.boxplot('Jumlah_fertiliti', data=df)"
   ]
  },
  {
   "cell_type": "code",
   "execution_count": 24,
   "id": "032c929f",
   "metadata": {},
   "outputs": [],
   "source": [
    "# pencilan atau outlier\n",
    "def pencilan (health):\n",
    "  Q1 = health.quantile(0.25)\n",
    "  Q3 = health.quantile(0.75)\n",
    "  IQR  = Q3-Q1\n",
    "  df_final = health[(health<(Q1-(1.5*IQR))) | (health>(Q3+(1.5*IQR)))]\n",
    "  return df_final"
   ]
  },
  {
   "cell_type": "code",
   "execution_count": 25,
   "id": "c610f5e0",
   "metadata": {},
   "outputs": [
    {
     "name": "stdout",
     "output_type": "stream",
     "text": [
      "66     208.0\n",
      "132    160.0\n",
      "32     150.0\n",
      "31     149.0\n",
      "Name: Kematian_anak, dtype: float64\n",
      "112    7.49\n",
      "Name: Jumlah_fertiliti, dtype: float64\n"
     ]
    }
   ],
   "source": [
    "# aspek kesehatan\n",
    "print(pencilan(health['Kematian_anak']))\n",
    "print(pencilan(health['Jumlah_fertiliti']))"
   ]
  },
  {
   "cell_type": "code",
   "execution_count": 26,
   "id": "9b5e89b9",
   "metadata": {},
   "outputs": [
    {
     "data": {
      "text/html": [
       "<div>\n",
       "<style scoped>\n",
       "    .dataframe tbody tr th:only-of-type {\n",
       "        vertical-align: middle;\n",
       "    }\n",
       "\n",
       "    .dataframe tbody tr th {\n",
       "        vertical-align: top;\n",
       "    }\n",
       "\n",
       "    .dataframe thead th {\n",
       "        text-align: right;\n",
       "    }\n",
       "</style>\n",
       "<table border=\"1\" class=\"dataframe\">\n",
       "  <thead>\n",
       "    <tr style=\"text-align: right;\">\n",
       "      <th></th>\n",
       "      <th>Pendapatan</th>\n",
       "      <th>GDPperkapita</th>\n",
       "      <th>Kematian_anak</th>\n",
       "      <th>Jumlah_fertiliti</th>\n",
       "    </tr>\n",
       "  </thead>\n",
       "  <tbody>\n",
       "    <tr>\n",
       "      <th>0</th>\n",
       "      <td>1610.0</td>\n",
       "      <td>553.0</td>\n",
       "      <td>90.2</td>\n",
       "      <td>5.82</td>\n",
       "    </tr>\n",
       "    <tr>\n",
       "      <th>1</th>\n",
       "      <td>9930.0</td>\n",
       "      <td>4090.0</td>\n",
       "      <td>16.6</td>\n",
       "      <td>1.65</td>\n",
       "    </tr>\n",
       "    <tr>\n",
       "      <th>2</th>\n",
       "      <td>12900.0</td>\n",
       "      <td>4460.0</td>\n",
       "      <td>27.3</td>\n",
       "      <td>2.89</td>\n",
       "    </tr>\n",
       "    <tr>\n",
       "      <th>3</th>\n",
       "      <td>5900.0</td>\n",
       "      <td>3530.0</td>\n",
       "      <td>119.0</td>\n",
       "      <td>6.16</td>\n",
       "    </tr>\n",
       "    <tr>\n",
       "      <th>4</th>\n",
       "      <td>19100.0</td>\n",
       "      <td>12200.0</td>\n",
       "      <td>10.3</td>\n",
       "      <td>2.13</td>\n",
       "    </tr>\n",
       "    <tr>\n",
       "      <th>...</th>\n",
       "      <td>...</td>\n",
       "      <td>...</td>\n",
       "      <td>...</td>\n",
       "      <td>...</td>\n",
       "    </tr>\n",
       "    <tr>\n",
       "      <th>162</th>\n",
       "      <td>2950.0</td>\n",
       "      <td>2970.0</td>\n",
       "      <td>29.2</td>\n",
       "      <td>3.50</td>\n",
       "    </tr>\n",
       "    <tr>\n",
       "      <th>163</th>\n",
       "      <td>16500.0</td>\n",
       "      <td>13500.0</td>\n",
       "      <td>17.1</td>\n",
       "      <td>2.47</td>\n",
       "    </tr>\n",
       "    <tr>\n",
       "      <th>164</th>\n",
       "      <td>4490.0</td>\n",
       "      <td>1310.0</td>\n",
       "      <td>23.3</td>\n",
       "      <td>1.95</td>\n",
       "    </tr>\n",
       "    <tr>\n",
       "      <th>165</th>\n",
       "      <td>4480.0</td>\n",
       "      <td>1310.0</td>\n",
       "      <td>56.3</td>\n",
       "      <td>4.67</td>\n",
       "    </tr>\n",
       "    <tr>\n",
       "      <th>166</th>\n",
       "      <td>3280.0</td>\n",
       "      <td>1460.0</td>\n",
       "      <td>83.1</td>\n",
       "      <td>5.40</td>\n",
       "    </tr>\n",
       "  </tbody>\n",
       "</table>\n",
       "<p>137 rows × 4 columns</p>\n",
       "</div>"
      ],
      "text/plain": [
       "     Pendapatan  GDPperkapita  Kematian_anak  Jumlah_fertiliti\n",
       "0        1610.0         553.0           90.2              5.82\n",
       "1        9930.0        4090.0           16.6              1.65\n",
       "2       12900.0        4460.0           27.3              2.89\n",
       "3        5900.0        3530.0          119.0              6.16\n",
       "4       19100.0       12200.0           10.3              2.13\n",
       "..          ...           ...            ...               ...\n",
       "162      2950.0        2970.0           29.2              3.50\n",
       "163     16500.0       13500.0           17.1              2.47\n",
       "164      4490.0        1310.0           23.3              1.95\n",
       "165      4480.0        1310.0           56.3              4.67\n",
       "166      3280.0        1460.0           83.1              5.40\n",
       "\n",
       "[137 rows x 4 columns]"
      ]
     },
     "execution_count": 26,
     "metadata": {},
     "output_type": "execute_result"
    }
   ],
   "source": [
    "#menghapus outlier. lihat pada step sebelumnya\n",
    "df_clean"
   ]
  },
  {
   "cell_type": "code",
   "execution_count": 27,
   "id": "193d296b",
   "metadata": {},
   "outputs": [
    {
     "data": {
      "text/plain": [
       "<AxesSubplot:xlabel='Kematian_anak'>"
      ]
     },
     "execution_count": 27,
     "metadata": {},
     "output_type": "execute_result"
    },
    {
     "data": {
      "image/png": "[encoded data removed]",
      "text/plain": [
       "<Figure size 432x288 with 1 Axes>"
      ]
     },
     "metadata": {
      "needs_background": "light"
     },
     "output_type": "display_data"
    }
   ],
   "source": [
    "#memeriksa outlier\n",
    "sns.boxplot('Kematian_anak', data=df_clean)"
   ]
  },
  {
   "cell_type": "code",
   "execution_count": 28,
   "id": "8aab8bcc",
   "metadata": {},
   "outputs": [
    {
     "data": {
      "text/plain": [
       "<AxesSubplot:xlabel='Jumlah_fertiliti'>"
      ]
     },
     "execution_count": 28,
     "metadata": {},
     "output_type": "execute_result"
    },
    {
     "data": {
      "image/png": "[encoded data removed]",
      "text/plain": [
       "<Figure size 432x288 with 1 Axes>"
      ]
     },
     "metadata": {
      "needs_background": "light"
     },
     "output_type": "display_data"
    }
   ],
   "source": [
    "sns.boxplot('Jumlah_fertiliti', data=df_clean)"
   ]
  },
  {
   "cell_type": "markdown",
   "id": "f6f2700c",
   "metadata": {},
   "source": [
    "## Scaling Data"
   ]
  },
  {
   "cell_type": "code",
   "execution_count": 29,
   "id": "0b5a2d2e",
   "metadata": {},
   "outputs": [],
   "source": [
    "# scalling\n",
    "from sklearn.preprocessing import StandardScaler \n",
    "\n",
    "sc = StandardScaler()\n",
    "df_std = sc.fit_transform(df_clean)"
   ]
  },
  {
   "cell_type": "code",
   "execution_count": 30,
   "id": "8dec4d5a",
   "metadata": {},
   "outputs": [
    {
     "data": {
      "text/html": [
       "<div>\n",
       "<style scoped>\n",
       "    .dataframe tbody tr th:only-of-type {\n",
       "        vertical-align: middle;\n",
       "    }\n",
       "\n",
       "    .dataframe tbody tr th {\n",
       "        vertical-align: top;\n",
       "    }\n",
       "\n",
       "    .dataframe thead th {\n",
       "        text-align: right;\n",
       "    }\n",
       "</style>\n",
       "<table border=\"1\" class=\"dataframe\">\n",
       "  <thead>\n",
       "    <tr style=\"text-align: right;\">\n",
       "      <th></th>\n",
       "      <th>Pendapatan</th>\n",
       "      <th>GDPperkapita</th>\n",
       "      <th>Kematian_anak</th>\n",
       "      <th>Jumlah_fertiliti</th>\n",
       "      <th>label_kmeans1</th>\n",
       "    </tr>\n",
       "  </thead>\n",
       "  <tbody>\n",
       "    <tr>\n",
       "      <th>0</th>\n",
       "      <td>-0.981515</td>\n",
       "      <td>-0.842065</td>\n",
       "      <td>1.441763</td>\n",
       "      <td>1.864739</td>\n",
       "      <td>0</td>\n",
       "    </tr>\n",
       "    <tr>\n",
       "      <th>1</th>\n",
       "      <td>-0.137760</td>\n",
       "      <td>-0.345608</td>\n",
       "      <td>-0.670214</td>\n",
       "      <td>-0.953533</td>\n",
       "      <td>1</td>\n",
       "    </tr>\n",
       "    <tr>\n",
       "      <th>2</th>\n",
       "      <td>0.163437</td>\n",
       "      <td>-0.293674</td>\n",
       "      <td>-0.363174</td>\n",
       "      <td>-0.115486</td>\n",
       "      <td>1</td>\n",
       "    </tr>\n",
       "    <tr>\n",
       "      <th>3</th>\n",
       "      <td>-0.546454</td>\n",
       "      <td>-0.424210</td>\n",
       "      <td>2.268188</td>\n",
       "      <td>2.094527</td>\n",
       "      <td>0</td>\n",
       "    </tr>\n",
       "    <tr>\n",
       "      <th>4</th>\n",
       "      <td>0.792197</td>\n",
       "      <td>0.792720</td>\n",
       "      <td>-0.850995</td>\n",
       "      <td>-0.629128</td>\n",
       "      <td>1</td>\n",
       "    </tr>\n",
       "    <tr>\n",
       "      <th>...</th>\n",
       "      <td>...</td>\n",
       "      <td>...</td>\n",
       "      <td>...</td>\n",
       "      <td>...</td>\n",
       "      <td>...</td>\n",
       "    </tr>\n",
       "    <tr>\n",
       "      <th>132</th>\n",
       "      <td>-0.845622</td>\n",
       "      <td>-0.502812</td>\n",
       "      <td>-0.308653</td>\n",
       "      <td>0.296780</td>\n",
       "      <td>0</td>\n",
       "    </tr>\n",
       "    <tr>\n",
       "      <th>133</th>\n",
       "      <td>0.528524</td>\n",
       "      <td>0.975190</td>\n",
       "      <td>-0.655866</td>\n",
       "      <td>-0.399340</td>\n",
       "      <td>1</td>\n",
       "    </tr>\n",
       "    <tr>\n",
       "      <th>134</th>\n",
       "      <td>-0.689446</td>\n",
       "      <td>-0.735812</td>\n",
       "      <td>-0.477955</td>\n",
       "      <td>-0.750780</td>\n",
       "      <td>1</td>\n",
       "    </tr>\n",
       "    <tr>\n",
       "      <th>135</th>\n",
       "      <td>-0.690460</td>\n",
       "      <td>-0.735812</td>\n",
       "      <td>0.468991</td>\n",
       "      <td>1.087518</td>\n",
       "      <td>0</td>\n",
       "    </tr>\n",
       "    <tr>\n",
       "      <th>136</th>\n",
       "      <td>-0.812156</td>\n",
       "      <td>-0.714757</td>\n",
       "      <td>1.238026</td>\n",
       "      <td>1.580885</td>\n",
       "      <td>0</td>\n",
       "    </tr>\n",
       "  </tbody>\n",
       "</table>\n",
       "<p>137 rows × 5 columns</p>\n",
       "</div>"
      ],
      "text/plain": [
       "     Pendapatan  GDPperkapita  Kematian_anak  Jumlah_fertiliti  label_kmeans1\n",
       "0     -0.981515     -0.842065       1.441763          1.864739              0\n",
       "1     -0.137760     -0.345608      -0.670214         -0.953533              1\n",
       "2      0.163437     -0.293674      -0.363174         -0.115486              1\n",
       "3     -0.546454     -0.424210       2.268188          2.094527              0\n",
       "4      0.792197      0.792720      -0.850995         -0.629128              1\n",
       "..          ...           ...            ...               ...            ...\n",
       "132   -0.845622     -0.502812      -0.308653          0.296780              0\n",
       "133    0.528524      0.975190      -0.655866         -0.399340              1\n",
       "134   -0.689446     -0.735812      -0.477955         -0.750780              1\n",
       "135   -0.690460     -0.735812       0.468991          1.087518              0\n",
       "136   -0.812156     -0.714757       1.238026          1.580885              0\n",
       "\n",
       "[137 rows x 5 columns]"
      ]
     },
     "execution_count": 30,
     "metadata": {},
     "output_type": "execute_result"
    }
   ],
   "source": [
    "# scalling Kmeans\n",
    "from sklearn.cluster import KMeans\n",
    "\n",
    "kmeans1 = KMeans (n_clusters=2, random_state=42).fit(df_std)\n",
    "labels1 = kmeans1.labels_\n",
    "# membuat dataframe\n",
    "df_std_baru = pd.DataFrame(data=df_std, columns=['Pendapatan','GDPperkapita','Kematian_anak','Jumlah_fertiliti'])\n",
    "df_std_baru['label_kmeans1']=labels1\n",
    "df_std_baru"
   ]
  },
  {
   "cell_type": "code",
   "execution_count": 31,
   "id": "01513ff2",
   "metadata": {},
   "outputs": [
    {
     "data": {
      "image/png": "[encoded data removed]",
      "text/plain": [
       "<Figure size 1080x576 with 1 Axes>"
      ]
     },
     "metadata": {
      "needs_background": "light"
     },
     "output_type": "display_data"
    }
   ],
   "source": [
    "# aspek ekonomi\n",
    "plt.figure(figsize=(15,8))\n",
    "plt.scatter(df_std_baru['Pendapatan'][df_std_baru.label_kmeans1==0],df_std_baru['GDPperkapita'][df_std_baru.label_kmeans1==0], c='blue', s=150, edgecolor='green', linestyle='-')\n",
    "plt.scatter(df_std_baru['Pendapatan'][df_std_baru.label_kmeans1==1],df_std_baru['GDPperkapita'][df_std_baru.label_kmeans1==1], c='red', s=150, edgecolor='green', linestyle='-')\n",
    "\n",
    "centers=kmeans1.cluster_centers_\n",
    "plt.scatter(centers[:,0],centers[:,1],c='black', s=500);\n",
    "plt.xlabel('Pendapatan')\n",
    "plt.ylabel('GDPperkapita')\n",
    "plt.show()\n"
   ]
  },
  {
   "cell_type": "code",
   "execution_count": 32,
   "id": "efa4af9f",
   "metadata": {},
   "outputs": [
    {
     "data": {
      "image/png": "[encoded data removed]",
      "text/plain": [
       "<Figure size 1080x576 with 1 Axes>"
      ]
     },
     "metadata": {
      "needs_background": "light"
     },
     "output_type": "display_data"
    }
   ],
   "source": [
    "# aspek kesehatan\n",
    "plt.figure(figsize=(15,8))\n",
    "plt.scatter(df_std_baru['Kematian_anak'][df_std_baru.label_kmeans1==0],df_std_baru['Jumlah_fertiliti'][df_std_baru.label_kmeans1==0], c='blue', s=150, edgecolor='green', linestyle='-')\n",
    "plt.scatter(df_std_baru['Kematian_anak'][df_std_baru.label_kmeans1==1],df_std_baru['Jumlah_fertiliti'][df_std_baru.label_kmeans1==1], c='red', s=150, edgecolor='green', linestyle='-')\n",
    "\n",
    "centers=kmeans1.cluster_centers_\n",
    "plt.scatter(centers[:,0],centers[:,1],c='black', s=500);\n",
    "plt.xlabel('Kematian_anak')\n",
    "plt.ylabel('Jumlah_fertiliti')\n",
    "plt.show()\n"
   ]
  },
  {
   "cell_type": "code",
   "execution_count": 33,
   "id": "55ec96f3",
   "metadata": {},
   "outputs": [
    {
     "data": {
      "text/plain": [
       "Text(0, 0.5, 'WCSS')"
      ]
     },
     "execution_count": 33,
     "metadata": {},
     "output_type": "execute_result"
    },
    {
     "data": {
      "image/png": "[encoded data removed]",
      "text/plain": [
       "<Figure size 1080x576 with 1 Axes>"
      ]
     },
     "metadata": {
      "needs_background": "light"
     },
     "output_type": "display_data"
    }
   ],
   "source": [
    "wcss = []\n",
    "for i in range (1,11):\n",
    "    kmeans = KMeans(n_clusters=i, init='k-means++', random_state =42)\n",
    "    kmeans.fit(df_std_baru)\n",
    "    wcss.append(kmeans.inertia_)\n",
    "plt.figure(figsize=(15,8))\n",
    "plt.plot(range(1,11), wcss) \n",
    "plt.title('The Elbow Method', size='x-large')\n",
    "plt.xlabel('Number of Clusters')\n",
    "plt.ylabel('WCSS')"
   ]
  },
  {
   "cell_type": "code",
   "execution_count": 34,
   "id": "54e737e2",
   "metadata": {},
   "outputs": [
    {
     "data": {
      "text/html": [
       "<div>\n",
       "<style scoped>\n",
       "    .dataframe tbody tr th:only-of-type {\n",
       "        vertical-align: middle;\n",
       "    }\n",
       "\n",
       "    .dataframe tbody tr th {\n",
       "        vertical-align: top;\n",
       "    }\n",
       "\n",
       "    .dataframe thead th {\n",
       "        text-align: right;\n",
       "    }\n",
       "</style>\n",
       "<table border=\"1\" class=\"dataframe\">\n",
       "  <thead>\n",
       "    <tr style=\"text-align: right;\">\n",
       "      <th></th>\n",
       "      <th>Pendapatan</th>\n",
       "      <th>GDPperkapita</th>\n",
       "      <th>Kematian_anak</th>\n",
       "      <th>Jumlah_fertiliti</th>\n",
       "      <th>label_kmeans2</th>\n",
       "    </tr>\n",
       "  </thead>\n",
       "  <tbody>\n",
       "    <tr>\n",
       "      <th>0</th>\n",
       "      <td>-0.981515</td>\n",
       "      <td>-0.842065</td>\n",
       "      <td>1.441763</td>\n",
       "      <td>1.864739</td>\n",
       "      <td>1</td>\n",
       "    </tr>\n",
       "    <tr>\n",
       "      <th>1</th>\n",
       "      <td>-0.137760</td>\n",
       "      <td>-0.345608</td>\n",
       "      <td>-0.670214</td>\n",
       "      <td>-0.953533</td>\n",
       "      <td>2</td>\n",
       "    </tr>\n",
       "    <tr>\n",
       "      <th>2</th>\n",
       "      <td>0.163437</td>\n",
       "      <td>-0.293674</td>\n",
       "      <td>-0.363174</td>\n",
       "      <td>-0.115486</td>\n",
       "      <td>2</td>\n",
       "    </tr>\n",
       "    <tr>\n",
       "      <th>3</th>\n",
       "      <td>-0.546454</td>\n",
       "      <td>-0.424210</td>\n",
       "      <td>2.268188</td>\n",
       "      <td>2.094527</td>\n",
       "      <td>1</td>\n",
       "    </tr>\n",
       "    <tr>\n",
       "      <th>4</th>\n",
       "      <td>0.792197</td>\n",
       "      <td>0.792720</td>\n",
       "      <td>-0.850995</td>\n",
       "      <td>-0.629128</td>\n",
       "      <td>0</td>\n",
       "    </tr>\n",
       "    <tr>\n",
       "      <th>...</th>\n",
       "      <td>...</td>\n",
       "      <td>...</td>\n",
       "      <td>...</td>\n",
       "      <td>...</td>\n",
       "      <td>...</td>\n",
       "    </tr>\n",
       "    <tr>\n",
       "      <th>132</th>\n",
       "      <td>-0.845622</td>\n",
       "      <td>-0.502812</td>\n",
       "      <td>-0.308653</td>\n",
       "      <td>0.296780</td>\n",
       "      <td>2</td>\n",
       "    </tr>\n",
       "    <tr>\n",
       "      <th>133</th>\n",
       "      <td>0.528524</td>\n",
       "      <td>0.975190</td>\n",
       "      <td>-0.655866</td>\n",
       "      <td>-0.399340</td>\n",
       "      <td>0</td>\n",
       "    </tr>\n",
       "    <tr>\n",
       "      <th>134</th>\n",
       "      <td>-0.689446</td>\n",
       "      <td>-0.735812</td>\n",
       "      <td>-0.477955</td>\n",
       "      <td>-0.750780</td>\n",
       "      <td>2</td>\n",
       "    </tr>\n",
       "    <tr>\n",
       "      <th>135</th>\n",
       "      <td>-0.690460</td>\n",
       "      <td>-0.735812</td>\n",
       "      <td>0.468991</td>\n",
       "      <td>1.087518</td>\n",
       "      <td>1</td>\n",
       "    </tr>\n",
       "    <tr>\n",
       "      <th>136</th>\n",
       "      <td>-0.812156</td>\n",
       "      <td>-0.714757</td>\n",
       "      <td>1.238026</td>\n",
       "      <td>1.580885</td>\n",
       "      <td>1</td>\n",
       "    </tr>\n",
       "  </tbody>\n",
       "</table>\n",
       "<p>137 rows × 5 columns</p>\n",
       "</div>"
      ],
      "text/plain": [
       "     Pendapatan  GDPperkapita  Kematian_anak  Jumlah_fertiliti  label_kmeans2\n",
       "0     -0.981515     -0.842065       1.441763          1.864739              1\n",
       "1     -0.137760     -0.345608      -0.670214         -0.953533              2\n",
       "2      0.163437     -0.293674      -0.363174         -0.115486              2\n",
       "3     -0.546454     -0.424210       2.268188          2.094527              1\n",
       "4      0.792197      0.792720      -0.850995         -0.629128              0\n",
       "..          ...           ...            ...               ...            ...\n",
       "132   -0.845622     -0.502812      -0.308653          0.296780              2\n",
       "133    0.528524      0.975190      -0.655866         -0.399340              0\n",
       "134   -0.689446     -0.735812      -0.477955         -0.750780              2\n",
       "135   -0.690460     -0.735812       0.468991          1.087518              1\n",
       "136   -0.812156     -0.714757       1.238026          1.580885              1\n",
       "\n",
       "[137 rows x 5 columns]"
      ]
     },
     "execution_count": 34,
     "metadata": {},
     "output_type": "execute_result"
    }
   ],
   "source": [
    "# clustering dengan KMeans baru dengan K=3\n",
    "kmeans2 = KMeans(n_clusters=3, init='k-means++', random_state =42).fit(df_std)\n",
    "labels2 = kmeans2.labels_\n",
    "\n",
    "df_std_baru = pd.DataFrame(data=df_std, columns=['Pendapatan','GDPperkapita','Kematian_anak','Jumlah_fertiliti'])\n",
    "df_std_baru['label_kmeans2']=labels2\n",
    "df_std_baru"
   ]
  },
  {
   "cell_type": "code",
   "execution_count": 47,
   "id": "75d8fab4",
   "metadata": {},
   "outputs": [
    {
     "data": {
      "image/png": "[encoded data removed]",
      "text/plain": [
       "<Figure size 1080x576 with 1 Axes>"
      ]
     },
     "metadata": {
      "needs_background": "light"
     },
     "output_type": "display_data"
    }
   ],
   "source": [
    "# aspek ekonomi\n",
    "plt.figure(figsize=(15,8))\n",
    "plt.scatter(df_std_baru['Pendapatan'][df_std_baru.label_kmeans2==0],df_std_baru['GDPperkapita'][df_std_baru.label_kmeans2==0], c='green', s=150, edgecolor='green', linestyle='-')\n",
    "plt.scatter(df_std_baru['Pendapatan'][df_std_baru.label_kmeans2==1],df_std_baru['GDPperkapita'][df_std_baru.label_kmeans2==1], c='red', s=150, edgecolor='green', linestyle='-')\n",
    "plt.scatter(df_std_baru['Pendapatan'][df_std_baru.label_kmeans2==2],df_std_baru['GDPperkapita'][df_std_baru.label_kmeans2==2], c='blue', s=150, edgecolor='green', linestyle='-')\n",
    "\n",
    "centers=kmeans1.cluster_centers_\n",
    "plt.scatter(centers[:,0],centers[:,1],c='black', s=500);\n",
    "plt.xlabel('Pendapatan')\n",
    "plt.ylabel('GDPperkapita')\n",
    "plt.show()"
   ]
  },
  {
   "cell_type": "code",
   "execution_count": 50,
   "id": "2b7f563a",
   "metadata": {},
   "outputs": [
    {
     "data": {
      "image/png": "[encoded data removed]",
      "text/plain": [
       "<Figure size 1080x576 with 1 Axes>"
      ]
     },
     "metadata": {
      "needs_background": "light"
     },
     "output_type": "display_data"
    }
   ],
   "source": [
    "# aspek kesehatan\n",
    "plt.figure(figsize=(15,8))\n",
    "plt.scatter(df_std_baru['Kematian_anak'][df_std_baru.label_kmeans2==0],df_std_baru['Jumlah_fertiliti'][df_std_baru.label_kmeans2==0], c='green', s=150, edgecolor='green', linestyle='-')\n",
    "plt.scatter(df_std_baru['Kematian_anak'][df_std_baru.label_kmeans2==1],df_std_baru['Jumlah_fertiliti'][df_std_baru.label_kmeans2==1], c='red', s=150, edgecolor='green', linestyle='-')\n",
    "plt.scatter(df_std_baru['Kematian_anak'][df_std_baru.label_kmeans2==2],df_std_baru['Jumlah_fertiliti'][df_std_baru.label_kmeans2==2], c='blue', s=150, edgecolor='green', linestyle='-')\n",
    "\n",
    "centers=kmeans1.cluster_centers_\n",
    "plt.scatter(centers[:,0],centers[:,1],c='black', s=500);\n",
    "plt.xlabel('Kematian_anak')\n",
    "plt.ylabel('Jumlah_fertiliti')\n",
    "plt.show()"
   ]
  },
  {
   "cell_type": "code",
   "execution_count": 37,
   "id": "83c31842",
   "metadata": {},
   "outputs": [
    {
     "name": "stdout",
     "output_type": "stream",
     "text": [
      "0.4407128354912183\n",
      "0.4693627983124632\n"
     ]
    }
   ],
   "source": [
    "# silhouette score\n",
    "from sklearn.metrics import silhouette_score\n",
    "\n",
    "print(silhouette_score(df_std, labels= labels1))\n",
    "print(silhouette_score(df_std, labels= labels2))"
   ]
  },
  {
   "cell_type": "code",
   "execution_count": 38,
   "id": "5050cf2a",
   "metadata": {},
   "outputs": [
    {
     "data": {
      "text/plain": [
       "array([1, 1, 1, 1, 0, 0, 1, 1, 0, 0, 1, 0, 1, 1, 1, 1, 1, 1, 1, 1, 1, 1,\n",
       "       1, 1, 1, 1, 0, 1, 1, 1, 1, 1, 1, 1, 0, 0, 0, 1, 1, 1, 1, 0, 1, 0,\n",
       "       1, 1, 1, 1, 1, 0, 1, 1, 1, 1, 1, 0, 1, 1, 1, 1, 0, 1, 1, 0, 1, 1,\n",
       "       1, 1, 0, 1, 1, 1, 0, 0, 1, 1, 1, 0, 1, 1, 0, 1, 1, 1, 1, 1, 1, 1,\n",
       "       1, 1, 1, 1, 1, 0, 1, 1, 1, 1, 1, 0, 0, 0, 0, 1, 1, 0, 1, 1, 0, 0,\n",
       "       0, 1, 1, 0, 0, 1, 1, 1, 1, 1, 1, 1, 1, 1, 1, 1, 0, 1, 1, 1, 0, 1,\n",
       "       1, 0, 1, 1, 1])"
      ]
     },
     "execution_count": 38,
     "metadata": {},
     "output_type": "execute_result"
    }
   ],
   "source": [
    "kmeansa = KMeans(n_clusters = 2, random_state=42).fit(sc.inverse_transform(df_std))\n",
    "labelsa = kmeansa.labels_\n",
    "labelsa"
   ]
  },
  {
   "cell_type": "code",
   "execution_count": 39,
   "id": "6a85f4eb",
   "metadata": {},
   "outputs": [
    {
     "data": {
      "text/plain": [
       "array([1, 2, 2, 1, 0, 0, 2, 2, 0, 0, 2, 0, 2, 2, 1, 2, 2, 2, 2, 2, 2, 1,\n",
       "       1, 2, 1, 2, 0, 2, 2, 1, 1, 1, 2, 1, 0, 0, 0, 2, 2, 2, 2, 0, 1, 0,\n",
       "       2, 2, 1, 2, 1, 0, 2, 2, 1, 1, 2, 0, 2, 2, 2, 2, 0, 2, 2, 2, 1, 1,\n",
       "       2, 1, 0, 2, 1, 1, 0, 0, 2, 1, 1, 0, 2, 1, 0, 1, 2, 2, 2, 2, 2, 2,\n",
       "       1, 2, 2, 2, 1, 0, 1, 2, 2, 2, 2, 0, 0, 2, 0, 1, 2, 0, 1, 2, 0, 0,\n",
       "       0, 2, 2, 0, 0, 2, 2, 1, 2, 2, 1, 2, 1, 1, 2, 2, 0, 2, 1, 2, 0, 2,\n",
       "       2, 0, 2, 1, 1])"
      ]
     },
     "execution_count": 39,
     "metadata": {},
     "output_type": "execute_result"
    }
   ],
   "source": [
    "kmeansb = KMeans(n_clusters = 3, init='k-means++', random_state=42).fit(df_std)\n",
    "labelsb = kmeansb.labels_\n",
    "labelsb"
   ]
  },
  {
   "cell_type": "code",
   "execution_count": 40,
   "id": "15ef1e48",
   "metadata": {},
   "outputs": [
    {
     "data": {
      "text/html": [
       "<div>\n",
       "<style scoped>\n",
       "    .dataframe tbody tr th:only-of-type {\n",
       "        vertical-align: middle;\n",
       "    }\n",
       "\n",
       "    .dataframe tbody tr th {\n",
       "        vertical-align: top;\n",
       "    }\n",
       "\n",
       "    .dataframe thead th {\n",
       "        text-align: right;\n",
       "    }\n",
       "</style>\n",
       "<table border=\"1\" class=\"dataframe\">\n",
       "  <thead>\n",
       "    <tr style=\"text-align: right;\">\n",
       "      <th></th>\n",
       "      <th>Pendapatan</th>\n",
       "      <th>GDPperkapita</th>\n",
       "      <th>Kematian_anak</th>\n",
       "      <th>Jumlah_fertiliti</th>\n",
       "      <th>label1_kmeans</th>\n",
       "      <th>label2_kmeans</th>\n",
       "    </tr>\n",
       "  </thead>\n",
       "  <tbody>\n",
       "    <tr>\n",
       "      <th>0</th>\n",
       "      <td>1610.0</td>\n",
       "      <td>553.0</td>\n",
       "      <td>90.2</td>\n",
       "      <td>5.82</td>\n",
       "      <td>1</td>\n",
       "      <td>1</td>\n",
       "    </tr>\n",
       "    <tr>\n",
       "      <th>1</th>\n",
       "      <td>9930.0</td>\n",
       "      <td>4090.0</td>\n",
       "      <td>16.6</td>\n",
       "      <td>1.65</td>\n",
       "      <td>1</td>\n",
       "      <td>2</td>\n",
       "    </tr>\n",
       "    <tr>\n",
       "      <th>2</th>\n",
       "      <td>12900.0</td>\n",
       "      <td>4460.0</td>\n",
       "      <td>27.3</td>\n",
       "      <td>2.89</td>\n",
       "      <td>1</td>\n",
       "      <td>2</td>\n",
       "    </tr>\n",
       "    <tr>\n",
       "      <th>3</th>\n",
       "      <td>5900.0</td>\n",
       "      <td>3530.0</td>\n",
       "      <td>119.0</td>\n",
       "      <td>6.16</td>\n",
       "      <td>1</td>\n",
       "      <td>1</td>\n",
       "    </tr>\n",
       "    <tr>\n",
       "      <th>4</th>\n",
       "      <td>19100.0</td>\n",
       "      <td>12200.0</td>\n",
       "      <td>10.3</td>\n",
       "      <td>2.13</td>\n",
       "      <td>0</td>\n",
       "      <td>0</td>\n",
       "    </tr>\n",
       "    <tr>\n",
       "      <th>...</th>\n",
       "      <td>...</td>\n",
       "      <td>...</td>\n",
       "      <td>...</td>\n",
       "      <td>...</td>\n",
       "      <td>...</td>\n",
       "      <td>...</td>\n",
       "    </tr>\n",
       "    <tr>\n",
       "      <th>132</th>\n",
       "      <td>2950.0</td>\n",
       "      <td>2970.0</td>\n",
       "      <td>29.2</td>\n",
       "      <td>3.50</td>\n",
       "      <td>1</td>\n",
       "      <td>2</td>\n",
       "    </tr>\n",
       "    <tr>\n",
       "      <th>133</th>\n",
       "      <td>16500.0</td>\n",
       "      <td>13500.0</td>\n",
       "      <td>17.1</td>\n",
       "      <td>2.47</td>\n",
       "      <td>0</td>\n",
       "      <td>0</td>\n",
       "    </tr>\n",
       "    <tr>\n",
       "      <th>134</th>\n",
       "      <td>4490.0</td>\n",
       "      <td>1310.0</td>\n",
       "      <td>23.3</td>\n",
       "      <td>1.95</td>\n",
       "      <td>1</td>\n",
       "      <td>2</td>\n",
       "    </tr>\n",
       "    <tr>\n",
       "      <th>135</th>\n",
       "      <td>4480.0</td>\n",
       "      <td>1310.0</td>\n",
       "      <td>56.3</td>\n",
       "      <td>4.67</td>\n",
       "      <td>1</td>\n",
       "      <td>1</td>\n",
       "    </tr>\n",
       "    <tr>\n",
       "      <th>136</th>\n",
       "      <td>3280.0</td>\n",
       "      <td>1460.0</td>\n",
       "      <td>83.1</td>\n",
       "      <td>5.40</td>\n",
       "      <td>1</td>\n",
       "      <td>1</td>\n",
       "    </tr>\n",
       "  </tbody>\n",
       "</table>\n",
       "<p>137 rows × 6 columns</p>\n",
       "</div>"
      ],
      "text/plain": [
       "     Pendapatan  GDPperkapita  Kematian_anak  Jumlah_fertiliti  label1_kmeans  \\\n",
       "0        1610.0         553.0           90.2              5.82              1   \n",
       "1        9930.0        4090.0           16.6              1.65              1   \n",
       "2       12900.0        4460.0           27.3              2.89              1   \n",
       "3        5900.0        3530.0          119.0              6.16              1   \n",
       "4       19100.0       12200.0           10.3              2.13              0   \n",
       "..          ...           ...            ...               ...            ...   \n",
       "132      2950.0        2970.0           29.2              3.50              1   \n",
       "133     16500.0       13500.0           17.1              2.47              0   \n",
       "134      4490.0        1310.0           23.3              1.95              1   \n",
       "135      4480.0        1310.0           56.3              4.67              1   \n",
       "136      3280.0        1460.0           83.1              5.40              1   \n",
       "\n",
       "     label2_kmeans  \n",
       "0                1  \n",
       "1                2  \n",
       "2                2  \n",
       "3                1  \n",
       "4                0  \n",
       "..             ...  \n",
       "132              2  \n",
       "133              0  \n",
       "134              2  \n",
       "135              1  \n",
       "136              1  \n",
       "\n",
       "[137 rows x 6 columns]"
      ]
     },
     "execution_count": 40,
     "metadata": {},
     "output_type": "execute_result"
    }
   ],
   "source": [
    "df1_baru = pd.DataFrame(data=sc.inverse_transform(df_std), columns=['Pendapatan','GDPperkapita','Kematian_anak', 'Jumlah_fertiliti'])\n",
    "df1_baru['label1_kmeans'] = labelsa\n",
    "df1_baru['label2_kmeans'] = labelsb\n",
    "df1_baru"
   ]
  },
  {
   "cell_type": "code",
   "execution_count": 41,
   "id": "4362eeb1",
   "metadata": {},
   "outputs": [
    {
     "data": {
      "text/html": [
       "<div>\n",
       "<style scoped>\n",
       "    .dataframe tbody tr th:only-of-type {\n",
       "        vertical-align: middle;\n",
       "    }\n",
       "\n",
       "    .dataframe tbody tr th {\n",
       "        vertical-align: top;\n",
       "    }\n",
       "\n",
       "    .dataframe thead th {\n",
       "        text-align: right;\n",
       "    }\n",
       "</style>\n",
       "<table border=\"1\" class=\"dataframe\">\n",
       "  <thead>\n",
       "    <tr style=\"text-align: right;\">\n",
       "      <th></th>\n",
       "      <th>Pendapatan</th>\n",
       "      <th>GDPperkapita</th>\n",
       "      <th>Kematian_anak</th>\n",
       "      <th>Jumlah_fertiliti</th>\n",
       "      <th>K_means_labels</th>\n",
       "    </tr>\n",
       "  </thead>\n",
       "  <tbody>\n",
       "    <tr>\n",
       "      <th>0</th>\n",
       "      <td>-0.981515</td>\n",
       "      <td>-0.842065</td>\n",
       "      <td>1.441763</td>\n",
       "      <td>1.864739</td>\n",
       "      <td>1</td>\n",
       "    </tr>\n",
       "    <tr>\n",
       "      <th>1</th>\n",
       "      <td>-0.137760</td>\n",
       "      <td>-0.345608</td>\n",
       "      <td>-0.670214</td>\n",
       "      <td>-0.953533</td>\n",
       "      <td>2</td>\n",
       "    </tr>\n",
       "    <tr>\n",
       "      <th>2</th>\n",
       "      <td>0.163437</td>\n",
       "      <td>-0.293674</td>\n",
       "      <td>-0.363174</td>\n",
       "      <td>-0.115486</td>\n",
       "      <td>2</td>\n",
       "    </tr>\n",
       "    <tr>\n",
       "      <th>3</th>\n",
       "      <td>-0.546454</td>\n",
       "      <td>-0.424210</td>\n",
       "      <td>2.268188</td>\n",
       "      <td>2.094527</td>\n",
       "      <td>1</td>\n",
       "    </tr>\n",
       "    <tr>\n",
       "      <th>4</th>\n",
       "      <td>0.792197</td>\n",
       "      <td>0.792720</td>\n",
       "      <td>-0.850995</td>\n",
       "      <td>-0.629128</td>\n",
       "      <td>0</td>\n",
       "    </tr>\n",
       "    <tr>\n",
       "      <th>...</th>\n",
       "      <td>...</td>\n",
       "      <td>...</td>\n",
       "      <td>...</td>\n",
       "      <td>...</td>\n",
       "      <td>...</td>\n",
       "    </tr>\n",
       "    <tr>\n",
       "      <th>132</th>\n",
       "      <td>-0.845622</td>\n",
       "      <td>-0.502812</td>\n",
       "      <td>-0.308653</td>\n",
       "      <td>0.296780</td>\n",
       "      <td>2</td>\n",
       "    </tr>\n",
       "    <tr>\n",
       "      <th>133</th>\n",
       "      <td>0.528524</td>\n",
       "      <td>0.975190</td>\n",
       "      <td>-0.655866</td>\n",
       "      <td>-0.399340</td>\n",
       "      <td>0</td>\n",
       "    </tr>\n",
       "    <tr>\n",
       "      <th>134</th>\n",
       "      <td>-0.689446</td>\n",
       "      <td>-0.735812</td>\n",
       "      <td>-0.477955</td>\n",
       "      <td>-0.750780</td>\n",
       "      <td>2</td>\n",
       "    </tr>\n",
       "    <tr>\n",
       "      <th>135</th>\n",
       "      <td>-0.690460</td>\n",
       "      <td>-0.735812</td>\n",
       "      <td>0.468991</td>\n",
       "      <td>1.087518</td>\n",
       "      <td>1</td>\n",
       "    </tr>\n",
       "    <tr>\n",
       "      <th>136</th>\n",
       "      <td>-0.812156</td>\n",
       "      <td>-0.714757</td>\n",
       "      <td>1.238026</td>\n",
       "      <td>1.580885</td>\n",
       "      <td>1</td>\n",
       "    </tr>\n",
       "  </tbody>\n",
       "</table>\n",
       "<p>137 rows × 5 columns</p>\n",
       "</div>"
      ],
      "text/plain": [
       "     Pendapatan  GDPperkapita  Kematian_anak  Jumlah_fertiliti K_means_labels\n",
       "0     -0.981515     -0.842065       1.441763          1.864739              1\n",
       "1     -0.137760     -0.345608      -0.670214         -0.953533              2\n",
       "2      0.163437     -0.293674      -0.363174         -0.115486              2\n",
       "3     -0.546454     -0.424210       2.268188          2.094527              1\n",
       "4      0.792197      0.792720      -0.850995         -0.629128              0\n",
       "..          ...           ...            ...               ...            ...\n",
       "132   -0.845622     -0.502812      -0.308653          0.296780              2\n",
       "133    0.528524      0.975190      -0.655866         -0.399340              0\n",
       "134   -0.689446     -0.735812      -0.477955         -0.750780              2\n",
       "135   -0.690460     -0.735812       0.468991          1.087518              1\n",
       "136   -0.812156     -0.714757       1.238026          1.580885              1\n",
       "\n",
       "[137 rows x 5 columns]"
      ]
     },
     "execution_count": 41,
     "metadata": {},
     "output_type": "execute_result"
    }
   ],
   "source": [
    "#summary\n",
    "df_std_ = pd.DataFrame(data=df_std, columns=['Pendapatan','GDPperkapita','Kematian_anak','Jumlah_fertiliti'])\n",
    "df_std_['K_means_labels'] = pd.Series(labelsb).astype('object')\n",
    "df_std_"
   ]
  },
  {
   "cell_type": "code",
   "execution_count": null,
   "id": "6e4874a6",
   "metadata": {},
   "outputs": [],
   "source": []
  }
 ],
 "metadata": {
  "kernelspec": {
   "display_name": "Python 3 (ipykernel)",
   "language": "python",
   "name": "python3"
  },
  "language_info": {
   "codemirror_mode": {
    "name": "ipython",
    "version": 3
   },
   "file_extension": ".py",
   "mimetype": "text/x-python",
   "name": "python",
   "nbconvert_exporter": "python",
   "pygments_lexer": "ipython3",
   "version": "3.9.6"
  }
 },
 "nbformat": 4,
 "nbformat_minor": 5
}
